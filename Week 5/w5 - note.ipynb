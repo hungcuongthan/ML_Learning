{
 "cells": [
  {
   "cell_type": "markdown",
   "metadata": {},
   "source": [
    "ecommerce: recommendation\n",
    "\n",
    "finance: credit fraud detection\n"
   ]
  },
  {
   "cell_type": "markdown",
   "metadata": {},
   "source": [
    "Deep learning: images, voice data, natural language processing"
   ]
  },
  {
   "cell_type": "markdown",
   "metadata": {},
   "source": [
    "when to use?\n",
    "\n",
    "1. one hot encoding: (1,0,0) (0,1,0) (0,0,1) --> increase number of features dramatically\n",
    "\n",
    "consider number of unique values\n",
    "\n",
    "drop columns that has # unique values >= 800\n",
    "\n",
    "must understand the characteristics of the algorithm being used (naive bayes only need label encoding)\n",
    "\n",
    "\n",
    "2. label encoing: only create number label for the the original column\n",
    "\n"
   ]
  },
  {
   "cell_type": "markdown",
   "metadata": {},
   "source": [
    "\n",
    " "
   ]
  },
  {
   "cell_type": "markdown",
   "metadata": {},
   "source": [
    "### Decision trees"
   ]
  },
  {
   "cell_type": "markdown",
   "metadata": {},
   "source": [
    "homogenity of examples\n",
    "\n",
    "    entropy(S) hon loan cang cao entropy cang lon (0,1), the smaller the better for the classfication (best = 0)\n",
    "    \n",
    "    entropy (impurity measure)"
   ]
  },
  {
   "cell_type": "markdown",
   "metadata": {},
   "source": [
    "Information Gain = Gain(S,A) \n",
    "\n",
    "find a feature the maximize the Gain(S,A), example: Gain(S,Sky)"
   ]
  },
  {
   "cell_type": "markdown",
   "metadata": {},
   "source": [
    "S: all dataset\n",
    "\n",
    "S sky: target vallue concerned sky"
   ]
  },
  {
   "cell_type": "markdown",
   "metadata": {},
   "source": [
    "label encoder can be used."
   ]
  },
  {
   "cell_type": "markdown",
   "metadata": {},
   "source": [
    "ID3: binary decision tree using entropy"
   ]
  },
  {
   "cell_type": "markdown",
   "metadata": {},
   "source": [
    "##### Gain Ratio(A):\n",
    "\n",
    "Use C4.5\n",
    "\n",
    "Use Splitinfo A (D)\n",
    "\n",
    "GainRatio(A) = Gain(A) / SplitInfo A (D)\n",
    "\n",
    "features that has so many unique values will not be selected."
   ]
  },
  {
   "cell_type": "markdown",
   "metadata": {},
   "source": [
    "### CART\n",
    "\n",
    "Gini index\n",
    "\n",
    "only use binary split for each feature\n",
    "\n",
    "the small gini index the better\n",
    "\n"
   ]
  }
 ],
 "metadata": {
  "kernelspec": {
   "display_name": "Python 3",
   "language": "python",
   "name": "python3"
  },
  "language_info": {
   "codemirror_mode": {
    "name": "ipython",
    "version": 3
   },
   "file_extension": ".py",
   "mimetype": "text/x-python",
   "name": "python",
   "nbconvert_exporter": "python",
   "pygments_lexer": "ipython3",
   "version": "3.7.3"
  }
 },
 "nbformat": 4,
 "nbformat_minor": 2
}
