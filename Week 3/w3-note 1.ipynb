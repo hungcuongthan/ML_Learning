{
 "cells": [
  {
   "cell_type": "markdown",
   "metadata": {},
   "source": [
    "visualization libraries:\n",
    "matplotlib\n",
    "seaborn\n",
    "plotly\n"
   ]
  },
  {
   "cell_type": "markdown",
   "metadata": {},
   "source": [
    "Prepare PCA plot (for plotly) for next lecture"
   ]
  },
  {
   "cell_type": "markdown",
   "metadata": {},
   "source": [
    "linear regression: \n",
    "- predict target value based on features\n",
    "\n",
    "- classification: \n",
    "    - binary classification (spam mail indentification: logistic regression)\n",
    "\n",
    "- Clusterring:\n",
    "    - Segmentation: customer segmentation\n",
    "    \n",
    "    \n"
   ]
  },
  {
   "cell_type": "markdown",
   "metadata": {},
   "source": [
    "Regression --> Find a hyperplane"
   ]
  },
  {
   "cell_type": "markdown",
   "metadata": {},
   "source": [
    "y = 0.209x1 + 0.261x2 + 0.199x3 0.15x4 - 0.25x5"
   ]
  },
  {
   "cell_type": "markdown",
   "metadata": {},
   "source": [
    "prevent overfitting: regularization "
   ]
  },
  {
   "cell_type": "markdown",
   "metadata": {},
   "source": [
    "feature scaling: feature chênh lệch về khoảng giá trị. --> về [-1,1] or [0,1]\n",
    "\n",
    "normalization? \n",
    "stardization, max min scaler\n",
    "\n",
    "tìm hiểu khi nào dùng standardization, maxmin scaler?"
   ]
  },
  {
   "cell_type": "code",
   "execution_count": null,
   "metadata": {},
   "outputs": [],
   "source": []
  }
 ],
 "metadata": {
  "kernelspec": {
   "display_name": "Python 3",
   "language": "python",
   "name": "python3"
  },
  "language_info": {
   "codemirror_mode": {
    "name": "ipython",
    "version": 3
   },
   "file_extension": ".py",
   "mimetype": "text/x-python",
   "name": "python",
   "nbconvert_exporter": "python",
   "pygments_lexer": "ipython3",
   "version": "3.7.3"
  }
 },
 "nbformat": 4,
 "nbformat_minor": 2
}
