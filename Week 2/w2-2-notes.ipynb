{
 "cells": [
  {
   "cell_type": "markdown",
   "metadata": {},
   "source": [
    "assignment 2:\n",
    "\n",
    "extract info from json file\n",
    "\n",
    "analysis report structure: data science best practice part-2 (kaggle)\n",
    "\n",
    "Question1: 'Area' feature: which country has the biggest impact on film's revenue? Use hypothesis testing and ANOVA testing, \n",
    "    such as : H0: no big difference in revenue among areas\n",
    "    \n",
    "    \n",
    "Question 2: Film' genre on revenue and avg score\n",
    "\n",
    "\n",
    "Question 3:\n",
    "\n"
   ]
  },
  {
   "cell_type": "markdown",
   "metadata": {},
   "source": [
    "#### Visualization tools:\n",
    "\n",
    "1. Matplotlib: for basic plotting\n",
    "    Use tutorial\n",
    "\n",
    "2. Seaborn \n",
    "\n",
    "\n",
    "3. Plotly (versatile, advanced plotting, ROC curve, interactive charts)\n",
    "    'Plotly visualization kaggle'\n",
    "    'Intermidiate visualization using plotly'\n",
    "    "
   ]
  },
  {
   "cell_type": "markdown",
   "metadata": {},
   "source": [
    "### ANOVA:\n",
    "\n",
    "Interpret the impact of features on targets variables\n",
    "\n",
    "1. one-way ANOVA\n",
    "\n",
    "k populations\n",
    "\n",
    "k number of samples: n1,n2,...nk\n",
    "\n",
    "t-test is a special case of ANOVA\n",
    "\n",
    "H0: there's no difference among samples\n",
    "H1: There's atleast 1 difference\n",
    "\n",
    "size of sample: j\n",
    "\n",
    "x bar (mean of all populations) = mean(x1,x2,x3) (central limit theorem)\n",
    "\n",
    "\n",
    "SSW: sum of squared within\n",
    "\n",
    "SSB: sum of squared between\n",
    "\n",
    "SST = SSW + SSB\n",
    "\n",
    "n-k = degree of freedom\n",
    "\n",
    "MSW = SSW / (n-k)\n",
    "MSB = SSW / (k-1)\n",
    "\n",
    "F = MSB/MSW\n",
    "\n",
    "Using F distribution\n",
    "\n",
    "F > F(alpha; (k-1;n-k)): reject H0\n",
    "\n",
    "in practice, use ***scipy.stats.f***\n",
    "\n",
    "p-value < 0.05: reject H0\n",
    "\n",
    "F>0: normally just say 'there's a difference among genres'\n",
    "\n",
    "also, consider mean value of each sample,\n",
    "\n",
    "### f_oneway()"
   ]
  },
  {
   "cell_type": "markdown",
   "metadata": {},
   "source": [
    "### Two-way ANOVA\n",
    "\n",
    "impact from 2 features towards target\n",
    "\n",
    "example: \"genre and origin to revenue\"\n",
    "\n",
    "SST: sum squared total\n",
    "\n",
    "SSK: sum squared total among teams\n",
    "\n",
    "SSH: by row\n",
    "\n",
    "SSE(error) = SST - SSK - SSH \n",
    "\n",
    "F1: by column\n",
    "F2: by row\n",
    "\n",
    "F standard = F(k-1 , alpha, (k-1)(h-1))\n",
    "\n",
    "F1 actual > F1 crit: reject H0\n",
    "\n",
    "F2 actual > F2 crit: reject H0\n",
    "\n",
    "2 p-values to be obtained\n",
    "\n",
    "p-value < 0.05: reject H0\n",
    "\n",
    "xac xuat co y nghia = 1- p-value\n",
    "\n",
    "\n",
    "\n",
    "\n",
    "\n",
    "\n",
    "\n"
   ]
  },
  {
   "cell_type": "code",
   "execution_count": null,
   "metadata": {},
   "outputs": [],
   "source": []
  },
  {
   "cell_type": "code",
   "execution_count": null,
   "metadata": {},
   "outputs": [],
   "source": []
  },
  {
   "cell_type": "code",
   "execution_count": null,
   "metadata": {},
   "outputs": [],
   "source": []
  },
  {
   "cell_type": "code",
   "execution_count": null,
   "metadata": {},
   "outputs": [],
   "source": []
  }
 ],
 "metadata": {
  "kernelspec": {
   "display_name": "Python 3",
   "language": "python",
   "name": "python3"
  },
  "language_info": {
   "codemirror_mode": {
    "name": "ipython",
    "version": 3
   },
   "file_extension": ".py",
   "mimetype": "text/x-python",
   "name": "python",
   "nbconvert_exporter": "python",
   "pygments_lexer": "ipython3",
   "version": "3.7.3"
  }
 },
 "nbformat": 4,
 "nbformat_minor": 2
}
