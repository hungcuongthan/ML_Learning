{
 "cells": [
  {
   "cell_type": "markdown",
   "metadata": {},
   "source": [
    "prob distribution used in data science:\n",
    "\n",
    "- normal distribution (mean and std deviation) (68, 95, 99.7)\n",
    "\n",
    "- in realtity: mainly long-tail distribution or skewed distribution\n",
    "\n",
    "- transform skewed distribution to normal dist using ***log transformation*** (log-transformed)\n",
    "\n",
    "- \n",
    "\n",
    "\n"
   ]
  },
  {
   "cell_type": "markdown",
   "metadata": {},
   "source": [
    "in python, we use scipy.stats to find p-value and other test statistics\n",
    "\n",
    "t > t crit or t < t crit => reject H0\n",
    "\n",
    "t test: examine a hypothesis, impact of a feature on  the target feature (feature selection)\n",
    "\n",
    "pair sample t test: 2 samples \n",
    "\n",
    "\n",
    "if **t statistics > 0**: group 1 > group 2\n",
    "\n",
    "elif **t statistics <0**: group 1 < group 2\n",
    "\n",
    "\n"
   ]
  },
  {
   "cell_type": "markdown",
   "metadata": {},
   "source": [
    "population stability index \n",
    "\n",
    "if not a normal distribution: --> Chi-square test"
   ]
  },
  {
   "cell_type": "code",
   "execution_count": null,
   "metadata": {},
   "outputs": [],
   "source": []
  }
 ],
 "metadata": {
  "kernelspec": {
   "display_name": "Python 3",
   "language": "python",
   "name": "python3"
  },
  "language_info": {
   "codemirror_mode": {
    "name": "ipython",
    "version": 3
   },
   "file_extension": ".py",
   "mimetype": "text/x-python",
   "name": "python",
   "nbconvert_exporter": "python",
   "pygments_lexer": "ipython3",
   "version": "3.7.3"
  }
 },
 "nbformat": 4,
 "nbformat_minor": 2
}
