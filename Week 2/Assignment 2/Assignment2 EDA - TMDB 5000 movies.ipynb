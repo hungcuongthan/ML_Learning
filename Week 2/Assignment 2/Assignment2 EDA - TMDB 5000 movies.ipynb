{
 "cells": [
  {
   "cell_type": "code",
   "execution_count": 1,
   "metadata": {},
   "outputs": [],
   "source": [
    "import pandas as pd\n",
    "import numpy as np\n",
    "import seaborn as sns\n",
    "from matplotlib import pyplot as plt\n",
    "import json as json\n",
    "from datetime import date\n",
    "import calendar\n",
    "from scipy import stats"
   ]
  },
  {
   "cell_type": "code",
   "execution_count": 2,
   "metadata": {},
   "outputs": [],
   "source": [
    "df = pd.read_csv(\"tmdb_5000_movies.csv\")"
   ]
  },
  {
   "cell_type": "code",
   "execution_count": 3,
   "metadata": {
    "scrolled": true
   },
   "outputs": [
    {
     "data": {
      "text/html": [
       "<div>\n",
       "<style scoped>\n",
       "    .dataframe tbody tr th:only-of-type {\n",
       "        vertical-align: middle;\n",
       "    }\n",
       "\n",
       "    .dataframe tbody tr th {\n",
       "        vertical-align: top;\n",
       "    }\n",
       "\n",
       "    .dataframe thead th {\n",
       "        text-align: right;\n",
       "    }\n",
       "</style>\n",
       "<table border=\"1\" class=\"dataframe\">\n",
       "  <thead>\n",
       "    <tr style=\"text-align: right;\">\n",
       "      <th></th>\n",
       "      <th>budget</th>\n",
       "      <th>genres</th>\n",
       "      <th>homepage</th>\n",
       "      <th>id</th>\n",
       "      <th>keywords</th>\n",
       "      <th>original_language</th>\n",
       "      <th>original_title</th>\n",
       "      <th>overview</th>\n",
       "      <th>popularity</th>\n",
       "      <th>production_companies</th>\n",
       "      <th>production_countries</th>\n",
       "      <th>release_date</th>\n",
       "      <th>revenue</th>\n",
       "      <th>runtime</th>\n",
       "      <th>spoken_languages</th>\n",
       "      <th>status</th>\n",
       "      <th>tagline</th>\n",
       "      <th>title</th>\n",
       "      <th>vote_average</th>\n",
       "      <th>vote_count</th>\n",
       "    </tr>\n",
       "  </thead>\n",
       "  <tbody>\n",
       "    <tr>\n",
       "      <th>0</th>\n",
       "      <td>237000000</td>\n",
       "      <td>[{\"id\": 28, \"name\": \"Action\"}, {\"id\": 12, \"nam...</td>\n",
       "      <td>http://www.avatarmovie.com/</td>\n",
       "      <td>19995</td>\n",
       "      <td>[{\"id\": 1463, \"name\": \"culture clash\"}, {\"id\":...</td>\n",
       "      <td>en</td>\n",
       "      <td>Avatar</td>\n",
       "      <td>In the 22nd century, a paraplegic Marine is di...</td>\n",
       "      <td>150.437577</td>\n",
       "      <td>[{\"name\": \"Ingenious Film Partners\", \"id\": 289...</td>\n",
       "      <td>[{\"iso_3166_1\": \"US\", \"name\": \"United States o...</td>\n",
       "      <td>2009-12-10</td>\n",
       "      <td>2787965087</td>\n",
       "      <td>162.0</td>\n",
       "      <td>[{\"iso_639_1\": \"en\", \"name\": \"English\"}, {\"iso...</td>\n",
       "      <td>Released</td>\n",
       "      <td>Enter the World of Pandora.</td>\n",
       "      <td>Avatar</td>\n",
       "      <td>7.2</td>\n",
       "      <td>11800</td>\n",
       "    </tr>\n",
       "    <tr>\n",
       "      <th>1</th>\n",
       "      <td>300000000</td>\n",
       "      <td>[{\"id\": 12, \"name\": \"Adventure\"}, {\"id\": 14, \"...</td>\n",
       "      <td>http://disney.go.com/disneypictures/pirates/</td>\n",
       "      <td>285</td>\n",
       "      <td>[{\"id\": 270, \"name\": \"ocean\"}, {\"id\": 726, \"na...</td>\n",
       "      <td>en</td>\n",
       "      <td>Pirates of the Caribbean: At World's End</td>\n",
       "      <td>Captain Barbossa, long believed to be dead, ha...</td>\n",
       "      <td>139.082615</td>\n",
       "      <td>[{\"name\": \"Walt Disney Pictures\", \"id\": 2}, {\"...</td>\n",
       "      <td>[{\"iso_3166_1\": \"US\", \"name\": \"United States o...</td>\n",
       "      <td>2007-05-19</td>\n",
       "      <td>961000000</td>\n",
       "      <td>169.0</td>\n",
       "      <td>[{\"iso_639_1\": \"en\", \"name\": \"English\"}]</td>\n",
       "      <td>Released</td>\n",
       "      <td>At the end of the world, the adventure begins.</td>\n",
       "      <td>Pirates of the Caribbean: At World's End</td>\n",
       "      <td>6.9</td>\n",
       "      <td>4500</td>\n",
       "    </tr>\n",
       "    <tr>\n",
       "      <th>2</th>\n",
       "      <td>245000000</td>\n",
       "      <td>[{\"id\": 28, \"name\": \"Action\"}, {\"id\": 12, \"nam...</td>\n",
       "      <td>http://www.sonypictures.com/movies/spectre/</td>\n",
       "      <td>206647</td>\n",
       "      <td>[{\"id\": 470, \"name\": \"spy\"}, {\"id\": 818, \"name...</td>\n",
       "      <td>en</td>\n",
       "      <td>Spectre</td>\n",
       "      <td>A cryptic message from Bond’s past sends him o...</td>\n",
       "      <td>107.376788</td>\n",
       "      <td>[{\"name\": \"Columbia Pictures\", \"id\": 5}, {\"nam...</td>\n",
       "      <td>[{\"iso_3166_1\": \"GB\", \"name\": \"United Kingdom\"...</td>\n",
       "      <td>2015-10-26</td>\n",
       "      <td>880674609</td>\n",
       "      <td>148.0</td>\n",
       "      <td>[{\"iso_639_1\": \"fr\", \"name\": \"Fran\\u00e7ais\"},...</td>\n",
       "      <td>Released</td>\n",
       "      <td>A Plan No One Escapes</td>\n",
       "      <td>Spectre</td>\n",
       "      <td>6.3</td>\n",
       "      <td>4466</td>\n",
       "    </tr>\n",
       "    <tr>\n",
       "      <th>3</th>\n",
       "      <td>250000000</td>\n",
       "      <td>[{\"id\": 28, \"name\": \"Action\"}, {\"id\": 80, \"nam...</td>\n",
       "      <td>http://www.thedarkknightrises.com/</td>\n",
       "      <td>49026</td>\n",
       "      <td>[{\"id\": 849, \"name\": \"dc comics\"}, {\"id\": 853,...</td>\n",
       "      <td>en</td>\n",
       "      <td>The Dark Knight Rises</td>\n",
       "      <td>Following the death of District Attorney Harve...</td>\n",
       "      <td>112.312950</td>\n",
       "      <td>[{\"name\": \"Legendary Pictures\", \"id\": 923}, {\"...</td>\n",
       "      <td>[{\"iso_3166_1\": \"US\", \"name\": \"United States o...</td>\n",
       "      <td>2012-07-16</td>\n",
       "      <td>1084939099</td>\n",
       "      <td>165.0</td>\n",
       "      <td>[{\"iso_639_1\": \"en\", \"name\": \"English\"}]</td>\n",
       "      <td>Released</td>\n",
       "      <td>The Legend Ends</td>\n",
       "      <td>The Dark Knight Rises</td>\n",
       "      <td>7.6</td>\n",
       "      <td>9106</td>\n",
       "    </tr>\n",
       "    <tr>\n",
       "      <th>4</th>\n",
       "      <td>260000000</td>\n",
       "      <td>[{\"id\": 28, \"name\": \"Action\"}, {\"id\": 12, \"nam...</td>\n",
       "      <td>http://movies.disney.com/john-carter</td>\n",
       "      <td>49529</td>\n",
       "      <td>[{\"id\": 818, \"name\": \"based on novel\"}, {\"id\":...</td>\n",
       "      <td>en</td>\n",
       "      <td>John Carter</td>\n",
       "      <td>John Carter is a war-weary, former military ca...</td>\n",
       "      <td>43.926995</td>\n",
       "      <td>[{\"name\": \"Walt Disney Pictures\", \"id\": 2}]</td>\n",
       "      <td>[{\"iso_3166_1\": \"US\", \"name\": \"United States o...</td>\n",
       "      <td>2012-03-07</td>\n",
       "      <td>284139100</td>\n",
       "      <td>132.0</td>\n",
       "      <td>[{\"iso_639_1\": \"en\", \"name\": \"English\"}]</td>\n",
       "      <td>Released</td>\n",
       "      <td>Lost in our world, found in another.</td>\n",
       "      <td>John Carter</td>\n",
       "      <td>6.1</td>\n",
       "      <td>2124</td>\n",
       "    </tr>\n",
       "  </tbody>\n",
       "</table>\n",
       "</div>"
      ],
      "text/plain": [
       "      budget                                             genres  \\\n",
       "0  237000000  [{\"id\": 28, \"name\": \"Action\"}, {\"id\": 12, \"nam...   \n",
       "1  300000000  [{\"id\": 12, \"name\": \"Adventure\"}, {\"id\": 14, \"...   \n",
       "2  245000000  [{\"id\": 28, \"name\": \"Action\"}, {\"id\": 12, \"nam...   \n",
       "3  250000000  [{\"id\": 28, \"name\": \"Action\"}, {\"id\": 80, \"nam...   \n",
       "4  260000000  [{\"id\": 28, \"name\": \"Action\"}, {\"id\": 12, \"nam...   \n",
       "\n",
       "                                       homepage      id  \\\n",
       "0                   http://www.avatarmovie.com/   19995   \n",
       "1  http://disney.go.com/disneypictures/pirates/     285   \n",
       "2   http://www.sonypictures.com/movies/spectre/  206647   \n",
       "3            http://www.thedarkknightrises.com/   49026   \n",
       "4          http://movies.disney.com/john-carter   49529   \n",
       "\n",
       "                                            keywords original_language  \\\n",
       "0  [{\"id\": 1463, \"name\": \"culture clash\"}, {\"id\":...                en   \n",
       "1  [{\"id\": 270, \"name\": \"ocean\"}, {\"id\": 726, \"na...                en   \n",
       "2  [{\"id\": 470, \"name\": \"spy\"}, {\"id\": 818, \"name...                en   \n",
       "3  [{\"id\": 849, \"name\": \"dc comics\"}, {\"id\": 853,...                en   \n",
       "4  [{\"id\": 818, \"name\": \"based on novel\"}, {\"id\":...                en   \n",
       "\n",
       "                             original_title  \\\n",
       "0                                    Avatar   \n",
       "1  Pirates of the Caribbean: At World's End   \n",
       "2                                   Spectre   \n",
       "3                     The Dark Knight Rises   \n",
       "4                               John Carter   \n",
       "\n",
       "                                            overview  popularity  \\\n",
       "0  In the 22nd century, a paraplegic Marine is di...  150.437577   \n",
       "1  Captain Barbossa, long believed to be dead, ha...  139.082615   \n",
       "2  A cryptic message from Bond’s past sends him o...  107.376788   \n",
       "3  Following the death of District Attorney Harve...  112.312950   \n",
       "4  John Carter is a war-weary, former military ca...   43.926995   \n",
       "\n",
       "                                production_companies  \\\n",
       "0  [{\"name\": \"Ingenious Film Partners\", \"id\": 289...   \n",
       "1  [{\"name\": \"Walt Disney Pictures\", \"id\": 2}, {\"...   \n",
       "2  [{\"name\": \"Columbia Pictures\", \"id\": 5}, {\"nam...   \n",
       "3  [{\"name\": \"Legendary Pictures\", \"id\": 923}, {\"...   \n",
       "4        [{\"name\": \"Walt Disney Pictures\", \"id\": 2}]   \n",
       "\n",
       "                                production_countries release_date     revenue  \\\n",
       "0  [{\"iso_3166_1\": \"US\", \"name\": \"United States o...   2009-12-10  2787965087   \n",
       "1  [{\"iso_3166_1\": \"US\", \"name\": \"United States o...   2007-05-19   961000000   \n",
       "2  [{\"iso_3166_1\": \"GB\", \"name\": \"United Kingdom\"...   2015-10-26   880674609   \n",
       "3  [{\"iso_3166_1\": \"US\", \"name\": \"United States o...   2012-07-16  1084939099   \n",
       "4  [{\"iso_3166_1\": \"US\", \"name\": \"United States o...   2012-03-07   284139100   \n",
       "\n",
       "   runtime                                   spoken_languages    status  \\\n",
       "0    162.0  [{\"iso_639_1\": \"en\", \"name\": \"English\"}, {\"iso...  Released   \n",
       "1    169.0           [{\"iso_639_1\": \"en\", \"name\": \"English\"}]  Released   \n",
       "2    148.0  [{\"iso_639_1\": \"fr\", \"name\": \"Fran\\u00e7ais\"},...  Released   \n",
       "3    165.0           [{\"iso_639_1\": \"en\", \"name\": \"English\"}]  Released   \n",
       "4    132.0           [{\"iso_639_1\": \"en\", \"name\": \"English\"}]  Released   \n",
       "\n",
       "                                          tagline  \\\n",
       "0                     Enter the World of Pandora.   \n",
       "1  At the end of the world, the adventure begins.   \n",
       "2                           A Plan No One Escapes   \n",
       "3                                 The Legend Ends   \n",
       "4            Lost in our world, found in another.   \n",
       "\n",
       "                                      title  vote_average  vote_count  \n",
       "0                                    Avatar           7.2       11800  \n",
       "1  Pirates of the Caribbean: At World's End           6.9        4500  \n",
       "2                                   Spectre           6.3        4466  \n",
       "3                     The Dark Knight Rises           7.6        9106  \n",
       "4                               John Carter           6.1        2124  "
      ]
     },
     "execution_count": 3,
     "metadata": {},
     "output_type": "execute_result"
    }
   ],
   "source": [
    "df.head()"
   ]
  },
  {
   "cell_type": "code",
   "execution_count": 4,
   "metadata": {},
   "outputs": [
    {
     "data": {
      "text/plain": [
       "(4803, 20)"
      ]
     },
     "execution_count": 4,
     "metadata": {},
     "output_type": "execute_result"
    }
   ],
   "source": [
    "df.shape"
   ]
  },
  {
   "cell_type": "code",
   "execution_count": 5,
   "metadata": {},
   "outputs": [
    {
     "data": {
      "text/html": [
       "<div>\n",
       "<style scoped>\n",
       "    .dataframe tbody tr th:only-of-type {\n",
       "        vertical-align: middle;\n",
       "    }\n",
       "\n",
       "    .dataframe tbody tr th {\n",
       "        vertical-align: top;\n",
       "    }\n",
       "\n",
       "    .dataframe thead th {\n",
       "        text-align: right;\n",
       "    }\n",
       "</style>\n",
       "<table border=\"1\" class=\"dataframe\">\n",
       "  <thead>\n",
       "    <tr style=\"text-align: right;\">\n",
       "      <th></th>\n",
       "      <th>budget</th>\n",
       "      <th>id</th>\n",
       "      <th>popularity</th>\n",
       "      <th>revenue</th>\n",
       "      <th>runtime</th>\n",
       "      <th>vote_average</th>\n",
       "      <th>vote_count</th>\n",
       "    </tr>\n",
       "  </thead>\n",
       "  <tbody>\n",
       "    <tr>\n",
       "      <th>count</th>\n",
       "      <td>4.803000e+03</td>\n",
       "      <td>4803.000000</td>\n",
       "      <td>4803.000000</td>\n",
       "      <td>4.803000e+03</td>\n",
       "      <td>4801.000000</td>\n",
       "      <td>4803.000000</td>\n",
       "      <td>4803.000000</td>\n",
       "    </tr>\n",
       "    <tr>\n",
       "      <th>mean</th>\n",
       "      <td>2.904504e+07</td>\n",
       "      <td>57165.484281</td>\n",
       "      <td>21.492301</td>\n",
       "      <td>8.226064e+07</td>\n",
       "      <td>106.875859</td>\n",
       "      <td>6.092172</td>\n",
       "      <td>690.217989</td>\n",
       "    </tr>\n",
       "    <tr>\n",
       "      <th>std</th>\n",
       "      <td>4.072239e+07</td>\n",
       "      <td>88694.614033</td>\n",
       "      <td>31.816650</td>\n",
       "      <td>1.628571e+08</td>\n",
       "      <td>22.611935</td>\n",
       "      <td>1.194612</td>\n",
       "      <td>1234.585891</td>\n",
       "    </tr>\n",
       "    <tr>\n",
       "      <th>min</th>\n",
       "      <td>0.000000e+00</td>\n",
       "      <td>5.000000</td>\n",
       "      <td>0.000000</td>\n",
       "      <td>0.000000e+00</td>\n",
       "      <td>0.000000</td>\n",
       "      <td>0.000000</td>\n",
       "      <td>0.000000</td>\n",
       "    </tr>\n",
       "    <tr>\n",
       "      <th>25%</th>\n",
       "      <td>7.900000e+05</td>\n",
       "      <td>9014.500000</td>\n",
       "      <td>4.668070</td>\n",
       "      <td>0.000000e+00</td>\n",
       "      <td>94.000000</td>\n",
       "      <td>5.600000</td>\n",
       "      <td>54.000000</td>\n",
       "    </tr>\n",
       "    <tr>\n",
       "      <th>50%</th>\n",
       "      <td>1.500000e+07</td>\n",
       "      <td>14629.000000</td>\n",
       "      <td>12.921594</td>\n",
       "      <td>1.917000e+07</td>\n",
       "      <td>103.000000</td>\n",
       "      <td>6.200000</td>\n",
       "      <td>235.000000</td>\n",
       "    </tr>\n",
       "    <tr>\n",
       "      <th>75%</th>\n",
       "      <td>4.000000e+07</td>\n",
       "      <td>58610.500000</td>\n",
       "      <td>28.313505</td>\n",
       "      <td>9.291719e+07</td>\n",
       "      <td>118.000000</td>\n",
       "      <td>6.800000</td>\n",
       "      <td>737.000000</td>\n",
       "    </tr>\n",
       "    <tr>\n",
       "      <th>max</th>\n",
       "      <td>3.800000e+08</td>\n",
       "      <td>459488.000000</td>\n",
       "      <td>875.581305</td>\n",
       "      <td>2.787965e+09</td>\n",
       "      <td>338.000000</td>\n",
       "      <td>10.000000</td>\n",
       "      <td>13752.000000</td>\n",
       "    </tr>\n",
       "  </tbody>\n",
       "</table>\n",
       "</div>"
      ],
      "text/plain": [
       "             budget             id   popularity       revenue      runtime  \\\n",
       "count  4.803000e+03    4803.000000  4803.000000  4.803000e+03  4801.000000   \n",
       "mean   2.904504e+07   57165.484281    21.492301  8.226064e+07   106.875859   \n",
       "std    4.072239e+07   88694.614033    31.816650  1.628571e+08    22.611935   \n",
       "min    0.000000e+00       5.000000     0.000000  0.000000e+00     0.000000   \n",
       "25%    7.900000e+05    9014.500000     4.668070  0.000000e+00    94.000000   \n",
       "50%    1.500000e+07   14629.000000    12.921594  1.917000e+07   103.000000   \n",
       "75%    4.000000e+07   58610.500000    28.313505  9.291719e+07   118.000000   \n",
       "max    3.800000e+08  459488.000000   875.581305  2.787965e+09   338.000000   \n",
       "\n",
       "       vote_average    vote_count  \n",
       "count   4803.000000   4803.000000  \n",
       "mean       6.092172    690.217989  \n",
       "std        1.194612   1234.585891  \n",
       "min        0.000000      0.000000  \n",
       "25%        5.600000     54.000000  \n",
       "50%        6.200000    235.000000  \n",
       "75%        6.800000    737.000000  \n",
       "max       10.000000  13752.000000  "
      ]
     },
     "execution_count": 5,
     "metadata": {},
     "output_type": "execute_result"
    }
   ],
   "source": [
    "df.describe()"
   ]
  },
  {
   "cell_type": "code",
   "execution_count": 6,
   "metadata": {},
   "outputs": [
    {
     "data": {
      "text/html": [
       "<div>\n",
       "<style scoped>\n",
       "    .dataframe tbody tr th:only-of-type {\n",
       "        vertical-align: middle;\n",
       "    }\n",
       "\n",
       "    .dataframe tbody tr th {\n",
       "        vertical-align: top;\n",
       "    }\n",
       "\n",
       "    .dataframe thead th {\n",
       "        text-align: right;\n",
       "    }\n",
       "</style>\n",
       "<table border=\"1\" class=\"dataframe\">\n",
       "  <thead>\n",
       "    <tr style=\"text-align: right;\">\n",
       "      <th></th>\n",
       "      <th>genres</th>\n",
       "      <th>homepage</th>\n",
       "      <th>keywords</th>\n",
       "      <th>original_language</th>\n",
       "      <th>original_title</th>\n",
       "      <th>overview</th>\n",
       "      <th>production_companies</th>\n",
       "      <th>production_countries</th>\n",
       "      <th>release_date</th>\n",
       "      <th>spoken_languages</th>\n",
       "      <th>status</th>\n",
       "      <th>tagline</th>\n",
       "      <th>title</th>\n",
       "    </tr>\n",
       "  </thead>\n",
       "  <tbody>\n",
       "    <tr>\n",
       "      <th>count</th>\n",
       "      <td>4803</td>\n",
       "      <td>1712</td>\n",
       "      <td>4803</td>\n",
       "      <td>4803</td>\n",
       "      <td>4803</td>\n",
       "      <td>4800</td>\n",
       "      <td>4803</td>\n",
       "      <td>4803</td>\n",
       "      <td>4802</td>\n",
       "      <td>4803</td>\n",
       "      <td>4803</td>\n",
       "      <td>3959</td>\n",
       "      <td>4803</td>\n",
       "    </tr>\n",
       "    <tr>\n",
       "      <th>unique</th>\n",
       "      <td>1175</td>\n",
       "      <td>1691</td>\n",
       "      <td>4222</td>\n",
       "      <td>37</td>\n",
       "      <td>4801</td>\n",
       "      <td>4800</td>\n",
       "      <td>3697</td>\n",
       "      <td>469</td>\n",
       "      <td>3280</td>\n",
       "      <td>544</td>\n",
       "      <td>3</td>\n",
       "      <td>3944</td>\n",
       "      <td>4800</td>\n",
       "    </tr>\n",
       "    <tr>\n",
       "      <th>top</th>\n",
       "      <td>[{\"id\": 18, \"name\": \"Drama\"}]</td>\n",
       "      <td>http://www.missionimpossible.com/</td>\n",
       "      <td>[]</td>\n",
       "      <td>en</td>\n",
       "      <td>Out of the Blue</td>\n",
       "      <td>Four actors compete for the role of Jesus - a ...</td>\n",
       "      <td>[]</td>\n",
       "      <td>[{\"iso_3166_1\": \"US\", \"name\": \"United States o...</td>\n",
       "      <td>2006-01-01</td>\n",
       "      <td>[{\"iso_639_1\": \"en\", \"name\": \"English\"}]</td>\n",
       "      <td>Released</td>\n",
       "      <td>Based on a true story.</td>\n",
       "      <td>Out of the Blue</td>\n",
       "    </tr>\n",
       "    <tr>\n",
       "      <th>freq</th>\n",
       "      <td>370</td>\n",
       "      <td>4</td>\n",
       "      <td>412</td>\n",
       "      <td>4505</td>\n",
       "      <td>2</td>\n",
       "      <td>1</td>\n",
       "      <td>351</td>\n",
       "      <td>2977</td>\n",
       "      <td>10</td>\n",
       "      <td>3171</td>\n",
       "      <td>4795</td>\n",
       "      <td>3</td>\n",
       "      <td>2</td>\n",
       "    </tr>\n",
       "  </tbody>\n",
       "</table>\n",
       "</div>"
      ],
      "text/plain": [
       "                               genres                           homepage  \\\n",
       "count                            4803                               1712   \n",
       "unique                           1175                               1691   \n",
       "top     [{\"id\": 18, \"name\": \"Drama\"}]  http://www.missionimpossible.com/   \n",
       "freq                              370                                  4   \n",
       "\n",
       "       keywords original_language   original_title  \\\n",
       "count      4803              4803             4803   \n",
       "unique     4222                37             4801   \n",
       "top          []                en  Out of the Blue   \n",
       "freq        412              4505                2   \n",
       "\n",
       "                                                 overview  \\\n",
       "count                                                4800   \n",
       "unique                                               4800   \n",
       "top     Four actors compete for the role of Jesus - a ...   \n",
       "freq                                                    1   \n",
       "\n",
       "       production_companies  \\\n",
       "count                  4803   \n",
       "unique                 3697   \n",
       "top                      []   \n",
       "freq                    351   \n",
       "\n",
       "                                     production_countries release_date  \\\n",
       "count                                                4803         4802   \n",
       "unique                                                469         3280   \n",
       "top     [{\"iso_3166_1\": \"US\", \"name\": \"United States o...   2006-01-01   \n",
       "freq                                                 2977           10   \n",
       "\n",
       "                                spoken_languages    status  \\\n",
       "count                                       4803      4803   \n",
       "unique                                       544         3   \n",
       "top     [{\"iso_639_1\": \"en\", \"name\": \"English\"}]  Released   \n",
       "freq                                        3171      4795   \n",
       "\n",
       "                       tagline            title  \n",
       "count                     3959             4803  \n",
       "unique                    3944             4800  \n",
       "top     Based on a true story.  Out of the Blue  \n",
       "freq                         3                2  "
      ]
     },
     "execution_count": 6,
     "metadata": {},
     "output_type": "execute_result"
    }
   ],
   "source": [
    "df.describe(include = 'O')"
   ]
  },
  {
   "cell_type": "markdown",
   "metadata": {},
   "source": [
    "We can see, almost every film belongsto several GENRES simultaneously.\n",
    "\n",
    "Question for next class: multi-class vs multi-label?"
   ]
  },
  {
   "cell_type": "code",
   "execution_count": 7,
   "metadata": {},
   "outputs": [],
   "source": [
    "df = df[['budget','genres','title','production_countries','release_date','vote_average','revenue','runtime','popularity','original_language']]"
   ]
  },
  {
   "cell_type": "code",
   "execution_count": 8,
   "metadata": {},
   "outputs": [
    {
     "name": "stdout",
     "output_type": "stream",
     "text": [
      "<class 'pandas.core.frame.DataFrame'>\n",
      "RangeIndex: 4803 entries, 0 to 4802\n",
      "Data columns (total 10 columns):\n",
      " #   Column                Non-Null Count  Dtype  \n",
      "---  ------                --------------  -----  \n",
      " 0   budget                4803 non-null   int64  \n",
      " 1   genres                4803 non-null   object \n",
      " 2   title                 4803 non-null   object \n",
      " 3   production_countries  4803 non-null   object \n",
      " 4   release_date          4802 non-null   object \n",
      " 5   vote_average          4803 non-null   float64\n",
      " 6   revenue               4803 non-null   int64  \n",
      " 7   runtime               4801 non-null   float64\n",
      " 8   popularity            4803 non-null   float64\n",
      " 9   original_language     4803 non-null   object \n",
      "dtypes: float64(3), int64(2), object(5)\n",
      "memory usage: 375.4+ KB\n"
     ]
    }
   ],
   "source": [
    "df.info()"
   ]
  },
  {
   "cell_type": "code",
   "execution_count": 9,
   "metadata": {},
   "outputs": [],
   "source": [
    "df = df[['budget','genres','title','production_countries','release_date','revenue','vote_average','runtime','popularity','original_language']].dropna()"
   ]
  },
  {
   "cell_type": "code",
   "execution_count": 51,
   "metadata": {},
   "outputs": [
    {
     "name": "stdout",
     "output_type": "stream",
     "text": [
      "<class 'pandas.core.frame.DataFrame'>\n",
      "Int64Index: 4800 entries, 0 to 4802\n",
      "Data columns (total 10 columns):\n",
      " #   Column                Non-Null Count  Dtype  \n",
      "---  ------                --------------  -----  \n",
      " 0   budget                4800 non-null   int64  \n",
      " 1   genres                4800 non-null   object \n",
      " 2   title                 4800 non-null   object \n",
      " 3   production_countries  4800 non-null   object \n",
      " 4   release_date          4800 non-null   object \n",
      " 5   revenue               4800 non-null   int64  \n",
      " 6   vote_average          4800 non-null   float64\n",
      " 7   runtime               4800 non-null   float64\n",
      " 8   popularity            4800 non-null   float64\n",
      " 9   original_language     4800 non-null   object \n",
      "dtypes: float64(3), int64(2), object(5)\n",
      "memory usage: 412.5+ KB\n"
     ]
    }
   ],
   "source": [
    "df.info()"
   ]
  },
  {
   "cell_type": "code",
   "execution_count": 10,
   "metadata": {},
   "outputs": [],
   "source": [
    "df1 = pd.DataFrame(columns = ['genre', 'all_genres', 'budget','vote_average','release_date', 'revenue', 'title', 'popularity','runtime','all_countries','country','original_language'])"
   ]
  },
  {
   "cell_type": "code",
   "execution_count": 11,
   "metadata": {},
   "outputs": [
    {
     "data": {
      "text/html": [
       "<div>\n",
       "<style scoped>\n",
       "    .dataframe tbody tr th:only-of-type {\n",
       "        vertical-align: middle;\n",
       "    }\n",
       "\n",
       "    .dataframe tbody tr th {\n",
       "        vertical-align: top;\n",
       "    }\n",
       "\n",
       "    .dataframe thead th {\n",
       "        text-align: right;\n",
       "    }\n",
       "</style>\n",
       "<table border=\"1\" class=\"dataframe\">\n",
       "  <thead>\n",
       "    <tr style=\"text-align: right;\">\n",
       "      <th></th>\n",
       "      <th>genre</th>\n",
       "      <th>all_genres</th>\n",
       "      <th>budget</th>\n",
       "      <th>vote_average</th>\n",
       "      <th>release_date</th>\n",
       "      <th>revenue</th>\n",
       "      <th>title</th>\n",
       "      <th>popularity</th>\n",
       "      <th>runtime</th>\n",
       "      <th>all_countries</th>\n",
       "      <th>country</th>\n",
       "      <th>original_language</th>\n",
       "    </tr>\n",
       "  </thead>\n",
       "  <tbody>\n",
       "  </tbody>\n",
       "</table>\n",
       "</div>"
      ],
      "text/plain": [
       "Empty DataFrame\n",
       "Columns: [genre, all_genres, budget, vote_average, release_date, revenue, title, popularity, runtime, all_countries, country, original_language]\n",
       "Index: []"
      ]
     },
     "execution_count": 11,
     "metadata": {},
     "output_type": "execute_result"
    }
   ],
   "source": [
    "df1"
   ]
  },
  {
   "cell_type": "code",
   "execution_count": 12,
   "metadata": {},
   "outputs": [],
   "source": [
    "def dataPrep(row):\n",
    "    global df1\n",
    "    d = {}\n",
    "    genres = np.array([g['name'] for g in eval(row['genres'])])\n",
    "    countries = np.array([g['name'] for g in eval(row['production_countries'])])\n",
    "    n = genres.size\n",
    "    m= countries.size\n",
    "    o = n*m\n",
    "    \n",
    "    d['budget'] = [row['budget']]*o\n",
    "    d['revenue'] = [row['revenue']]*o\n",
    "    d['title'] = [row['title']]*o\n",
    "    d['popularity'] = [row['popularity']]*o\n",
    "    d['runtime'] = [row['runtime']]*o\n",
    "    d['original_language'] = [row['original_language']]*o\n",
    "    d['release_date'] = [row['release_date']]*o\n",
    "    d['production_countries'] = [row['production_countries']]*o\n",
    "    d['vote_average'] = [row['vote_average']]*o\n",
    "    \n",
    "    d['genre'], d['all_genres'] = [], []\n",
    "    for genre in genres:\n",
    "        for i in range(m):\n",
    "            d['genre'].append(genre)\n",
    "            d['all_genres'].append(genres[genres != genre])\n",
    "\n",
    "    d['country'], d['all_countries'] = [], []\n",
    "    for i in range(n):\n",
    "        for country in countries:\n",
    "            d['country'].append(country)\n",
    "            d['all_countries'].append(countries[countries != country])\n",
    "        \n",
    "    df1 = df1.append(pd.DataFrame(d), ignore_index=True, sort=True)\n",
    "    \n",
    "df.apply(dataPrep, axis=1)\n",
    "df1 = df1[['genre', 'all_genres', 'budget', 'title', 'revenue','vote_average', 'popularity','runtime','all_countries','country','release_date','original_language']]\n",
    "df1 = df1.infer_objects()"
   ]
  },
  {
   "cell_type": "code",
   "execution_count": 13,
   "metadata": {
    "scrolled": true
   },
   "outputs": [
    {
     "data": {
      "text/html": [
       "<div>\n",
       "<style scoped>\n",
       "    .dataframe tbody tr th:only-of-type {\n",
       "        vertical-align: middle;\n",
       "    }\n",
       "\n",
       "    .dataframe tbody tr th {\n",
       "        vertical-align: top;\n",
       "    }\n",
       "\n",
       "    .dataframe thead th {\n",
       "        text-align: right;\n",
       "    }\n",
       "</style>\n",
       "<table border=\"1\" class=\"dataframe\">\n",
       "  <thead>\n",
       "    <tr style=\"text-align: right;\">\n",
       "      <th></th>\n",
       "      <th>genre</th>\n",
       "      <th>all_genres</th>\n",
       "      <th>budget</th>\n",
       "      <th>title</th>\n",
       "      <th>revenue</th>\n",
       "      <th>vote_average</th>\n",
       "      <th>popularity</th>\n",
       "      <th>runtime</th>\n",
       "      <th>all_countries</th>\n",
       "      <th>country</th>\n",
       "      <th>release_date</th>\n",
       "      <th>original_language</th>\n",
       "    </tr>\n",
       "  </thead>\n",
       "  <tbody>\n",
       "    <tr>\n",
       "      <th>0</th>\n",
       "      <td>Action</td>\n",
       "      <td>[Adventure, Fantasy, Science Fiction]</td>\n",
       "      <td>237000000</td>\n",
       "      <td>Avatar</td>\n",
       "      <td>2787965087</td>\n",
       "      <td>7.2</td>\n",
       "      <td>150.437577</td>\n",
       "      <td>162.0</td>\n",
       "      <td>[United Kingdom]</td>\n",
       "      <td>United States of America</td>\n",
       "      <td>2009-12-10</td>\n",
       "      <td>en</td>\n",
       "    </tr>\n",
       "    <tr>\n",
       "      <th>1</th>\n",
       "      <td>Action</td>\n",
       "      <td>[Adventure, Fantasy, Science Fiction]</td>\n",
       "      <td>237000000</td>\n",
       "      <td>Avatar</td>\n",
       "      <td>2787965087</td>\n",
       "      <td>7.2</td>\n",
       "      <td>150.437577</td>\n",
       "      <td>162.0</td>\n",
       "      <td>[United States of America]</td>\n",
       "      <td>United Kingdom</td>\n",
       "      <td>2009-12-10</td>\n",
       "      <td>en</td>\n",
       "    </tr>\n",
       "    <tr>\n",
       "      <th>2</th>\n",
       "      <td>Adventure</td>\n",
       "      <td>[Action, Fantasy, Science Fiction]</td>\n",
       "      <td>237000000</td>\n",
       "      <td>Avatar</td>\n",
       "      <td>2787965087</td>\n",
       "      <td>7.2</td>\n",
       "      <td>150.437577</td>\n",
       "      <td>162.0</td>\n",
       "      <td>[United Kingdom]</td>\n",
       "      <td>United States of America</td>\n",
       "      <td>2009-12-10</td>\n",
       "      <td>en</td>\n",
       "    </tr>\n",
       "    <tr>\n",
       "      <th>3</th>\n",
       "      <td>Adventure</td>\n",
       "      <td>[Action, Fantasy, Science Fiction]</td>\n",
       "      <td>237000000</td>\n",
       "      <td>Avatar</td>\n",
       "      <td>2787965087</td>\n",
       "      <td>7.2</td>\n",
       "      <td>150.437577</td>\n",
       "      <td>162.0</td>\n",
       "      <td>[United States of America]</td>\n",
       "      <td>United Kingdom</td>\n",
       "      <td>2009-12-10</td>\n",
       "      <td>en</td>\n",
       "    </tr>\n",
       "    <tr>\n",
       "      <th>4</th>\n",
       "      <td>Fantasy</td>\n",
       "      <td>[Action, Adventure, Science Fiction]</td>\n",
       "      <td>237000000</td>\n",
       "      <td>Avatar</td>\n",
       "      <td>2787965087</td>\n",
       "      <td>7.2</td>\n",
       "      <td>150.437577</td>\n",
       "      <td>162.0</td>\n",
       "      <td>[United Kingdom]</td>\n",
       "      <td>United States of America</td>\n",
       "      <td>2009-12-10</td>\n",
       "      <td>en</td>\n",
       "    </tr>\n",
       "    <tr>\n",
       "      <th>...</th>\n",
       "      <td>...</td>\n",
       "      <td>...</td>\n",
       "      <td>...</td>\n",
       "      <td>...</td>\n",
       "      <td>...</td>\n",
       "      <td>...</td>\n",
       "      <td>...</td>\n",
       "      <td>...</td>\n",
       "      <td>...</td>\n",
       "      <td>...</td>\n",
       "      <td>...</td>\n",
       "      <td>...</td>\n",
       "    </tr>\n",
       "    <tr>\n",
       "      <th>95</th>\n",
       "      <td>Comedy</td>\n",
       "      <td>[Action, Science Fiction]</td>\n",
       "      <td>225000000</td>\n",
       "      <td>Men in Black 3</td>\n",
       "      <td>624026776</td>\n",
       "      <td>6.2</td>\n",
       "      <td>52.035179</td>\n",
       "      <td>106.0</td>\n",
       "      <td>[]</td>\n",
       "      <td>United States of America</td>\n",
       "      <td>2012-05-23</td>\n",
       "      <td>en</td>\n",
       "    </tr>\n",
       "    <tr>\n",
       "      <th>96</th>\n",
       "      <td>Science Fiction</td>\n",
       "      <td>[Action, Comedy]</td>\n",
       "      <td>225000000</td>\n",
       "      <td>Men in Black 3</td>\n",
       "      <td>624026776</td>\n",
       "      <td>6.2</td>\n",
       "      <td>52.035179</td>\n",
       "      <td>106.0</td>\n",
       "      <td>[]</td>\n",
       "      <td>United States of America</td>\n",
       "      <td>2012-05-23</td>\n",
       "      <td>en</td>\n",
       "    </tr>\n",
       "    <tr>\n",
       "      <th>97</th>\n",
       "      <td>Action</td>\n",
       "      <td>[Adventure, Fantasy]</td>\n",
       "      <td>250000000</td>\n",
       "      <td>The Hobbit: The Battle of the Five Armies</td>\n",
       "      <td>956019788</td>\n",
       "      <td>7.1</td>\n",
       "      <td>120.965743</td>\n",
       "      <td>144.0</td>\n",
       "      <td>[United States of America]</td>\n",
       "      <td>New Zealand</td>\n",
       "      <td>2014-12-10</td>\n",
       "      <td>en</td>\n",
       "    </tr>\n",
       "    <tr>\n",
       "      <th>98</th>\n",
       "      <td>Action</td>\n",
       "      <td>[Adventure, Fantasy]</td>\n",
       "      <td>250000000</td>\n",
       "      <td>The Hobbit: The Battle of the Five Armies</td>\n",
       "      <td>956019788</td>\n",
       "      <td>7.1</td>\n",
       "      <td>120.965743</td>\n",
       "      <td>144.0</td>\n",
       "      <td>[New Zealand]</td>\n",
       "      <td>United States of America</td>\n",
       "      <td>2014-12-10</td>\n",
       "      <td>en</td>\n",
       "    </tr>\n",
       "    <tr>\n",
       "      <th>99</th>\n",
       "      <td>Adventure</td>\n",
       "      <td>[Action, Fantasy]</td>\n",
       "      <td>250000000</td>\n",
       "      <td>The Hobbit: The Battle of the Five Armies</td>\n",
       "      <td>956019788</td>\n",
       "      <td>7.1</td>\n",
       "      <td>120.965743</td>\n",
       "      <td>144.0</td>\n",
       "      <td>[United States of America]</td>\n",
       "      <td>New Zealand</td>\n",
       "      <td>2014-12-10</td>\n",
       "      <td>en</td>\n",
       "    </tr>\n",
       "  </tbody>\n",
       "</table>\n",
       "<p>100 rows × 12 columns</p>\n",
       "</div>"
      ],
      "text/plain": [
       "              genre                             all_genres     budget  \\\n",
       "0            Action  [Adventure, Fantasy, Science Fiction]  237000000   \n",
       "1            Action  [Adventure, Fantasy, Science Fiction]  237000000   \n",
       "2         Adventure     [Action, Fantasy, Science Fiction]  237000000   \n",
       "3         Adventure     [Action, Fantasy, Science Fiction]  237000000   \n",
       "4           Fantasy   [Action, Adventure, Science Fiction]  237000000   \n",
       "..              ...                                    ...        ...   \n",
       "95           Comedy              [Action, Science Fiction]  225000000   \n",
       "96  Science Fiction                       [Action, Comedy]  225000000   \n",
       "97           Action                   [Adventure, Fantasy]  250000000   \n",
       "98           Action                   [Adventure, Fantasy]  250000000   \n",
       "99        Adventure                      [Action, Fantasy]  250000000   \n",
       "\n",
       "                                        title     revenue  vote_average  \\\n",
       "0                                      Avatar  2787965087           7.2   \n",
       "1                                      Avatar  2787965087           7.2   \n",
       "2                                      Avatar  2787965087           7.2   \n",
       "3                                      Avatar  2787965087           7.2   \n",
       "4                                      Avatar  2787965087           7.2   \n",
       "..                                        ...         ...           ...   \n",
       "95                             Men in Black 3   624026776           6.2   \n",
       "96                             Men in Black 3   624026776           6.2   \n",
       "97  The Hobbit: The Battle of the Five Armies   956019788           7.1   \n",
       "98  The Hobbit: The Battle of the Five Armies   956019788           7.1   \n",
       "99  The Hobbit: The Battle of the Five Armies   956019788           7.1   \n",
       "\n",
       "    popularity  runtime               all_countries                   country  \\\n",
       "0   150.437577    162.0            [United Kingdom]  United States of America   \n",
       "1   150.437577    162.0  [United States of America]            United Kingdom   \n",
       "2   150.437577    162.0            [United Kingdom]  United States of America   \n",
       "3   150.437577    162.0  [United States of America]            United Kingdom   \n",
       "4   150.437577    162.0            [United Kingdom]  United States of America   \n",
       "..         ...      ...                         ...                       ...   \n",
       "95   52.035179    106.0                          []  United States of America   \n",
       "96   52.035179    106.0                          []  United States of America   \n",
       "97  120.965743    144.0  [United States of America]               New Zealand   \n",
       "98  120.965743    144.0               [New Zealand]  United States of America   \n",
       "99  120.965743    144.0  [United States of America]               New Zealand   \n",
       "\n",
       "   release_date original_language  \n",
       "0    2009-12-10                en  \n",
       "1    2009-12-10                en  \n",
       "2    2009-12-10                en  \n",
       "3    2009-12-10                en  \n",
       "4    2009-12-10                en  \n",
       "..          ...               ...  \n",
       "95   2012-05-23                en  \n",
       "96   2012-05-23                en  \n",
       "97   2014-12-10                en  \n",
       "98   2014-12-10                en  \n",
       "99   2014-12-10                en  \n",
       "\n",
       "[100 rows x 12 columns]"
      ]
     },
     "execution_count": 13,
     "metadata": {},
     "output_type": "execute_result"
    }
   ],
   "source": [
    "df1.head(100)"
   ]
  },
  {
   "cell_type": "code",
   "execution_count": 14,
   "metadata": {},
   "outputs": [
    {
     "name": "stdout",
     "output_type": "stream",
     "text": [
      "<class 'pandas.core.frame.DataFrame'>\n",
      "RangeIndex: 16726 entries, 0 to 16725\n",
      "Data columns (total 12 columns):\n",
      " #   Column             Non-Null Count  Dtype  \n",
      "---  ------             --------------  -----  \n",
      " 0   genre              16726 non-null  object \n",
      " 1   all_genres         16726 non-null  object \n",
      " 2   budget             16726 non-null  int64  \n",
      " 3   title              16726 non-null  object \n",
      " 4   revenue            16726 non-null  int64  \n",
      " 5   vote_average       16726 non-null  float64\n",
      " 6   popularity         16726 non-null  float64\n",
      " 7   runtime            16726 non-null  float64\n",
      " 8   all_countries      16726 non-null  object \n",
      " 9   country            16726 non-null  object \n",
      " 10  release_date       16726 non-null  object \n",
      " 11  original_language  16726 non-null  object \n",
      "dtypes: float64(3), int64(2), object(7)\n",
      "memory usage: 1.5+ MB\n"
     ]
    }
   ],
   "source": [
    "df1.info()"
   ]
  },
  {
   "cell_type": "code",
   "execution_count": 15,
   "metadata": {},
   "outputs": [
    {
     "data": {
      "text/plain": [
       "2"
      ]
     },
     "execution_count": 15,
     "metadata": {},
     "output_type": "execute_result"
    }
   ],
   "source": [
    "1+1"
   ]
  },
  {
   "cell_type": "code",
   "execution_count": 16,
   "metadata": {},
   "outputs": [],
   "source": [
    "country1 = df1[['country','title','revenue']]"
   ]
  },
  {
   "cell_type": "code",
   "execution_count": 17,
   "metadata": {},
   "outputs": [
    {
     "data": {
      "text/plain": [
       "(16726, 3)"
      ]
     },
     "execution_count": 17,
     "metadata": {},
     "output_type": "execute_result"
    }
   ],
   "source": [
    "country1.shape"
   ]
  },
  {
   "cell_type": "code",
   "execution_count": 18,
   "metadata": {},
   "outputs": [],
   "source": [
    "country1 = country1.drop_duplicates(subset=['country','title','revenue'])"
   ]
  },
  {
   "cell_type": "code",
   "execution_count": 19,
   "metadata": {},
   "outputs": [
    {
     "data": {
      "text/plain": [
       "(6425, 3)"
      ]
     },
     "execution_count": 19,
     "metadata": {},
     "output_type": "execute_result"
    }
   ],
   "source": [
    "country1.shape"
   ]
  },
  {
   "cell_type": "code",
   "execution_count": 20,
   "metadata": {},
   "outputs": [
    {
     "data": {
      "image/png": "[encoded data removed]",
      "text/plain": [
       "<Figure size 1656x648 with 1 Axes>"
      ]
     },
     "metadata": {
      "needs_background": "light"
     },
     "output_type": "display_data"
    }
   ],
   "source": [
    "coutry_count = country1['country'].value_counts().sort_index()\n",
    "ctc = pd.DataFrame({'country': coutry_count.index, 'count': coutry_count.values})\n",
    "f, ax = plt.subplots(figsize=(23, 9))\n",
    "ctc.sort_values(by=['count'], inplace=True, ascending = False)\n",
    "sns.barplot(x = 'count', y = 'country', data=ctc.head(15))\n",
    "ax.set_title('Top 15 countries by number of films produced', fontsize= 20)\n",
    "ax.set_xlabel('Number of films', fontsize = 15)\n",
    "ax.set_ylabel('Country', fontsize = 15)\n",
    "plt.show()"
   ]
  },
  {
   "cell_type": "code",
   "execution_count": 21,
   "metadata": {},
   "outputs": [],
   "source": [
    "country2 = country1.groupby(['country'])['revenue'].agg('sum').reset_index()"
   ]
  },
  {
   "cell_type": "code",
   "execution_count": 22,
   "metadata": {},
   "outputs": [
    {
     "data": {
      "image/png": "[encoded data removed]",
      "text/plain": [
       "<Figure size 1656x648 with 1 Axes>"
      ]
     },
     "metadata": {
      "needs_background": "light"
     },
     "output_type": "display_data"
    }
   ],
   "source": [
    "f, ax = plt.subplots(figsize=(23, 9))\n",
    "country2.sort_values(by=['revenue'], inplace=True, ascending = False)\n",
    "sns.barplot(x = 'revenue', y = 'country', data=country2.head(15))\n",
    "ax.set_title('Top 15 countries by total revenue', fontsize= 25)\n",
    "ax.set_xlabel('Total revenue', fontsize = 15)\n",
    "ax.set_ylabel('Country', fontsize = 15)\n",
    "plt.show()"
   ]
  },
  {
   "cell_type": "markdown",
   "metadata": {},
   "source": [
    "#### US and European countries seem to dominate the film industry of the world for both number of films produced and total revenue generated."
   ]
  },
  {
   "cell_type": "markdown",
   "metadata": {},
   "source": [
    "### 1. Check if there's difference in revenue generated by each film between the US and the rest of the world."
   ]
  },
  {
   "cell_type": "markdown",
   "metadata": {},
   "source": [
    "H0: There is no significant difference in film revenue between the US and the other countries"
   ]
  },
  {
   "cell_type": "code",
   "execution_count": 23,
   "metadata": {},
   "outputs": [
    {
     "name": "stdout",
     "output_type": "stream",
     "text": [
      "Results of ANOVA test:\n",
      " The F-statistic is: 30.530697717782953\n",
      " The p-value is: 3.4152618829560225e-08\n"
     ]
    }
   ],
   "source": [
    "fvalue, pvalue = stats.f_oneway(country1[country1['country'] == 'United States of America']['revenue'],\n",
    "                                country1[country1['country'] != 'United States of America']['revenue'])\n",
    "\n",
    "print(f\"Results of ANOVA test:\\n The F-statistic is: {fvalue}\\n The p-value is: {pvalue}\")"
   ]
  },
  {
   "cell_type": "markdown",
   "metadata": {},
   "source": [
    "Since p-value < 0.05 and F-statistics > 0, we can reject H0 with 95% confidence, and expect the film produced by the US studios tends to have higher revenue than their counterparts from other countries."
   ]
  },
  {
   "cell_type": "markdown",
   "metadata": {},
   "source": [
    "## 2. Analysis on Genres"
   ]
  },
  {
   "cell_type": "markdown",
   "metadata": {},
   "source": [
    "### 2.1. Impact of genres on Revenue"
   ]
  },
  {
   "cell_type": "code",
   "execution_count": 24,
   "metadata": {},
   "outputs": [],
   "source": [
    "genre1 = df1[['title','genre','revenue','vote_average']]"
   ]
  },
  {
   "cell_type": "code",
   "execution_count": 25,
   "metadata": {},
   "outputs": [],
   "source": [
    "genre1 = genre1.drop_duplicates(subset=['title','genre','revenue','vote_average'])"
   ]
  },
  {
   "cell_type": "code",
   "execution_count": 26,
   "metadata": {},
   "outputs": [
    {
     "data": {
      "text/html": [
       "<div>\n",
       "<style scoped>\n",
       "    .dataframe tbody tr th:only-of-type {\n",
       "        vertical-align: middle;\n",
       "    }\n",
       "\n",
       "    .dataframe tbody tr th {\n",
       "        vertical-align: top;\n",
       "    }\n",
       "\n",
       "    .dataframe thead th {\n",
       "        text-align: right;\n",
       "    }\n",
       "</style>\n",
       "<table border=\"1\" class=\"dataframe\">\n",
       "  <thead>\n",
       "    <tr style=\"text-align: right;\">\n",
       "      <th></th>\n",
       "      <th>title</th>\n",
       "      <th>genre</th>\n",
       "      <th>revenue</th>\n",
       "      <th>vote_average</th>\n",
       "    </tr>\n",
       "  </thead>\n",
       "  <tbody>\n",
       "    <tr>\n",
       "      <th>0</th>\n",
       "      <td>Avatar</td>\n",
       "      <td>Action</td>\n",
       "      <td>2787965087</td>\n",
       "      <td>7.2</td>\n",
       "    </tr>\n",
       "    <tr>\n",
       "      <th>2</th>\n",
       "      <td>Avatar</td>\n",
       "      <td>Adventure</td>\n",
       "      <td>2787965087</td>\n",
       "      <td>7.2</td>\n",
       "    </tr>\n",
       "    <tr>\n",
       "      <th>4</th>\n",
       "      <td>Avatar</td>\n",
       "      <td>Fantasy</td>\n",
       "      <td>2787965087</td>\n",
       "      <td>7.2</td>\n",
       "    </tr>\n",
       "    <tr>\n",
       "      <th>6</th>\n",
       "      <td>Avatar</td>\n",
       "      <td>Science Fiction</td>\n",
       "      <td>2787965087</td>\n",
       "      <td>7.2</td>\n",
       "    </tr>\n",
       "    <tr>\n",
       "      <th>8</th>\n",
       "      <td>Pirates of the Caribbean: At World's End</td>\n",
       "      <td>Adventure</td>\n",
       "      <td>961000000</td>\n",
       "      <td>6.9</td>\n",
       "    </tr>\n",
       "  </tbody>\n",
       "</table>\n",
       "</div>"
      ],
      "text/plain": [
       "                                      title            genre     revenue  \\\n",
       "0                                    Avatar           Action  2787965087   \n",
       "2                                    Avatar        Adventure  2787965087   \n",
       "4                                    Avatar          Fantasy  2787965087   \n",
       "6                                    Avatar  Science Fiction  2787965087   \n",
       "8  Pirates of the Caribbean: At World's End        Adventure   961000000   \n",
       "\n",
       "   vote_average  \n",
       "0           7.2  \n",
       "2           7.2  \n",
       "4           7.2  \n",
       "6           7.2  \n",
       "8           6.9  "
      ]
     },
     "execution_count": 26,
     "metadata": {},
     "output_type": "execute_result"
    }
   ],
   "source": [
    "genre1.head()"
   ]
  },
  {
   "cell_type": "code",
   "execution_count": 27,
   "metadata": {},
   "outputs": [
    {
     "data": {
      "image/png": "[encoded data removed]",
      "text/plain": [
       "<Figure size 1656x648 with 1 Axes>"
      ]
     },
     "metadata": {
      "needs_background": "light"
     },
     "output_type": "display_data"
    }
   ],
   "source": [
    "genre2 = genre1.groupby(['genre'])['revenue'].agg('sum').reset_index()\n",
    "f, ax = plt.subplots(figsize=(23, 9))\n",
    "genre2.sort_values(by=['revenue'], inplace=True, ascending = False)\n",
    "sns.barplot(x = 'revenue', y = 'genre', data=genre2.head(10))\n",
    "ax.set_title('Top 10 genres by total revenue', fontsize= 25)\n",
    "ax.set_xlabel('Total revenue', fontsize = 15)\n",
    "ax.set_ylabel('Genre', fontsize = 15)\n",
    "plt.show()"
   ]
  },
  {
   "cell_type": "markdown",
   "metadata": {},
   "source": [
    "### Hypothesis testing\n",
    "- Pop1: films have ***'Advanture'*** in their genres\n",
    "- Pop2: films have ***'Action'*** in their genres\n",
    "- Pop3: films have ***'Comedy'*** in their genres\n",
    "- Pop4: films have ***'Drama'*** in their genres\n",
    "- Pop5: Films that don't have any genres mentioned above\n",
    "\n",
    "***Hypothesis testing***: To test if there are differences in revenue generated amongst genres.\n",
    "\n",
    "- H0: There is no significant difference in film revenue amongst genres\n",
    "- H1: There is atleast one genre that affect significantly the revenue generated by the film"
   ]
  },
  {
   "cell_type": "code",
   "execution_count": 28,
   "metadata": {},
   "outputs": [
    {
     "name": "stdout",
     "output_type": "stream",
     "text": [
      "Results of ANOVA test:\n",
      " The F-statistic is: 128.22293904261454\n",
      " The p-value is: 1.6661810192607416e-107\n"
     ]
    }
   ],
   "source": [
    "fvalue, pvalue = stats.f_oneway(genre1[genre1['genre'] == 'Adventure']['revenue'],\n",
    "                                genre1[genre1['genre'] == 'Action']['revenue'],\n",
    "                               genre1[genre1['genre'] == 'Comedy']['revenue'],\n",
    "                               genre1[genre1['genre'] == 'Drama']['revenue'],\n",
    "                               genre1[~genre1['genre'].isin(['Advanture','Action','Comedy','Drama'])]['revenue'])\n",
    "\n",
    "print(f\"Results of ANOVA test:\\n The F-statistic is: {fvalue}\\n The p-value is: {pvalue}\")"
   ]
  },
  {
   "cell_type": "markdown",
   "metadata": {},
   "source": [
    "***Conclusion***: Since p-value < 0.05, we can reject H0 with 95% confidence, and expect there will be significant differences in revenue generated by each film amongs the genres that film has."
   ]
  },
  {
   "cell_type": "code",
   "execution_count": 29,
   "metadata": {},
   "outputs": [
    {
     "data": {
      "image/png": "[encoded data removed]",
      "text/plain": [
       "<Figure size 864x432 with 1 Axes>"
      ]
     },
     "metadata": {
      "needs_background": "light"
     },
     "output_type": "display_data"
    }
   ],
   "source": [
    "genre3 = genre1[genre1['genre'].isin(genre2['genre'].head(10))]\n",
    "plt.figure(figsize = (12,6))\n",
    "ax = sns.boxplot(x=\"genre\", y=\"revenue\", data=genre3)"
   ]
  },
  {
   "cell_type": "markdown",
   "metadata": {},
   "source": [
    "### 2.2. Impact of genres on film's voting score"
   ]
  },
  {
   "cell_type": "markdown",
   "metadata": {},
   "source": [
    "### Hypothesis testing\n",
    "- Pop1: films have ***'Advanture'*** in their genres\n",
    "- Pop2: films have ***'Action'*** in their genres\n",
    "- Pop3: films have ***'Comedy'*** in their genres\n",
    "- Pop4: films have ***'Drama'*** in their genres\n",
    "- Pop5: Films that don't have any genres mentioned above\n",
    "\n",
    "***Hypothesis testing***: To test if there are differences in vote score generated amongst genres.\n",
    "\n",
    "- H0: There is no significant difference in film's vote score amongst genres\n",
    "- H1: There is atleast one genre that affect significantly the vote scores the film received"
   ]
  },
  {
   "cell_type": "code",
   "execution_count": 30,
   "metadata": {},
   "outputs": [
    {
     "data": {
      "image/png": "[encoded data removed]",
      "text/plain": [
       "<Figure size 864x432 with 1 Axes>"
      ]
     },
     "metadata": {
      "needs_background": "light"
     },
     "output_type": "display_data"
    }
   ],
   "source": [
    "genre3 = genre1[genre1['genre'].isin(genre2['genre'].head(10))]\n",
    "plt.figure(figsize = (12,6))\n",
    "plt.title('Vote Score distribution of Genres')\n",
    "ax = sns.boxplot(x=\"genre\", y=\"vote_average\", data=genre3)"
   ]
  },
  {
   "cell_type": "code",
   "execution_count": 31,
   "metadata": {},
   "outputs": [
    {
     "name": "stdout",
     "output_type": "stream",
     "text": [
      "Results of ANOVA test:\n",
      " The F-statistic is: 59.8654718870555\n",
      " The p-value is: 3.646600268341143e-50\n"
     ]
    }
   ],
   "source": [
    "fvalue, pvalue = stats.f_oneway(genre1[genre1['genre'] == 'Adventure']['vote_average'],\n",
    "                                genre1[genre1['genre'] == 'Action']['vote_average'],\n",
    "                               genre1[genre1['genre'] == 'Comedy']['vote_average'],\n",
    "                               genre1[genre1['genre'] == 'Drama']['vote_average'],\n",
    "                               genre1[~genre1['genre'].isin(['Advanture','Action','Comedy','Drama'])]['vote_average'])\n",
    "\n",
    "print(f\"Results of ANOVA test:\\n The F-statistic is: {fvalue}\\n The p-value is: {pvalue}\")"
   ]
  },
  {
   "cell_type": "markdown",
   "metadata": {},
   "source": [
    "***Conclusion***: Since p-value < 0.05, we can reject H0 with 95% confidence, and expect there will be significant differences in film's vote score regarding the genres of the film."
   ]
  },
  {
   "cell_type": "markdown",
   "metadata": {},
   "source": [
    "### 3. Impact of released dates on film's revenue"
   ]
  },
  {
   "cell_type": "code",
   "execution_count": 32,
   "metadata": {},
   "outputs": [],
   "source": [
    "date1 = df1[['title','genre','revenue','release_date']]"
   ]
  },
  {
   "cell_type": "code",
   "execution_count": 33,
   "metadata": {},
   "outputs": [
    {
     "data": {
      "text/plain": [
       "(16726, 4)"
      ]
     },
     "execution_count": 33,
     "metadata": {},
     "output_type": "execute_result"
    }
   ],
   "source": [
    "date1.shape"
   ]
  },
  {
   "cell_type": "code",
   "execution_count": 34,
   "metadata": {},
   "outputs": [],
   "source": [
    "date1 = date1.drop_duplicates(subset=['title','genre','revenue','release_date'])"
   ]
  },
  {
   "cell_type": "code",
   "execution_count": 35,
   "metadata": {},
   "outputs": [
    {
     "data": {
      "text/plain": [
       "(11857, 4)"
      ]
     },
     "execution_count": 35,
     "metadata": {},
     "output_type": "execute_result"
    }
   ],
   "source": [
    "date1.shape"
   ]
  },
  {
   "cell_type": "code",
   "execution_count": 36,
   "metadata": {},
   "outputs": [],
   "source": [
    "date1['release_date'] = pd.to_datetime(date1['release_date'], format='%Y-%m-%d')"
   ]
  },
  {
   "cell_type": "code",
   "execution_count": 37,
   "metadata": {},
   "outputs": [
    {
     "name": "stdout",
     "output_type": "stream",
     "text": [
      "<class 'pandas.core.frame.DataFrame'>\n",
      "Int64Index: 11857 entries, 0 to 16725\n",
      "Data columns (total 4 columns):\n",
      " #   Column        Non-Null Count  Dtype         \n",
      "---  ------        --------------  -----         \n",
      " 0   title         11857 non-null  object        \n",
      " 1   genre         11857 non-null  object        \n",
      " 2   revenue       11857 non-null  int64         \n",
      " 3   release_date  11857 non-null  datetime64[ns]\n",
      "dtypes: datetime64[ns](1), int64(1), object(2)\n",
      "memory usage: 463.2+ KB\n"
     ]
    }
   ],
   "source": [
    "date1.info()"
   ]
  },
  {
   "cell_type": "code",
   "execution_count": 38,
   "metadata": {},
   "outputs": [],
   "source": [
    "date1['is_weekend'] = date1['release_date'].apply(lambda x: 1 if x.weekday() >4 else 0)"
   ]
  },
  {
   "cell_type": "code",
   "execution_count": 39,
   "metadata": {},
   "outputs": [
    {
     "data": {
      "text/html": [
       "<div>\n",
       "<style scoped>\n",
       "    .dataframe tbody tr th:only-of-type {\n",
       "        vertical-align: middle;\n",
       "    }\n",
       "\n",
       "    .dataframe tbody tr th {\n",
       "        vertical-align: top;\n",
       "    }\n",
       "\n",
       "    .dataframe thead th {\n",
       "        text-align: right;\n",
       "    }\n",
       "</style>\n",
       "<table border=\"1\" class=\"dataframe\">\n",
       "  <thead>\n",
       "    <tr style=\"text-align: right;\">\n",
       "      <th></th>\n",
       "      <th>title</th>\n",
       "      <th>genre</th>\n",
       "      <th>revenue</th>\n",
       "      <th>release_date</th>\n",
       "      <th>is_weekend</th>\n",
       "    </tr>\n",
       "  </thead>\n",
       "  <tbody>\n",
       "    <tr>\n",
       "      <th>0</th>\n",
       "      <td>Avatar</td>\n",
       "      <td>Action</td>\n",
       "      <td>2787965087</td>\n",
       "      <td>2009-12-10</td>\n",
       "      <td>0</td>\n",
       "    </tr>\n",
       "    <tr>\n",
       "      <th>2</th>\n",
       "      <td>Avatar</td>\n",
       "      <td>Adventure</td>\n",
       "      <td>2787965087</td>\n",
       "      <td>2009-12-10</td>\n",
       "      <td>0</td>\n",
       "    </tr>\n",
       "    <tr>\n",
       "      <th>4</th>\n",
       "      <td>Avatar</td>\n",
       "      <td>Fantasy</td>\n",
       "      <td>2787965087</td>\n",
       "      <td>2009-12-10</td>\n",
       "      <td>0</td>\n",
       "    </tr>\n",
       "    <tr>\n",
       "      <th>6</th>\n",
       "      <td>Avatar</td>\n",
       "      <td>Science Fiction</td>\n",
       "      <td>2787965087</td>\n",
       "      <td>2009-12-10</td>\n",
       "      <td>0</td>\n",
       "    </tr>\n",
       "    <tr>\n",
       "      <th>8</th>\n",
       "      <td>Pirates of the Caribbean: At World's End</td>\n",
       "      <td>Adventure</td>\n",
       "      <td>961000000</td>\n",
       "      <td>2007-05-19</td>\n",
       "      <td>1</td>\n",
       "    </tr>\n",
       "  </tbody>\n",
       "</table>\n",
       "</div>"
      ],
      "text/plain": [
       "                                      title            genre     revenue  \\\n",
       "0                                    Avatar           Action  2787965087   \n",
       "2                                    Avatar        Adventure  2787965087   \n",
       "4                                    Avatar          Fantasy  2787965087   \n",
       "6                                    Avatar  Science Fiction  2787965087   \n",
       "8  Pirates of the Caribbean: At World's End        Adventure   961000000   \n",
       "\n",
       "  release_date  is_weekend  \n",
       "0   2009-12-10           0  \n",
       "2   2009-12-10           0  \n",
       "4   2009-12-10           0  \n",
       "6   2009-12-10           0  \n",
       "8   2007-05-19           1  "
      ]
     },
     "execution_count": 39,
     "metadata": {},
     "output_type": "execute_result"
    }
   ],
   "source": [
    "date1.head()"
   ]
  },
  {
   "cell_type": "code",
   "execution_count": 40,
   "metadata": {},
   "outputs": [],
   "source": [
    "date1['day_name'] = date1['release_date'].dt.day_name()"
   ]
  },
  {
   "cell_type": "code",
   "execution_count": 41,
   "metadata": {},
   "outputs": [],
   "source": [
    "date1['last_7_days_month'] = date1['release_date'].apply(lambda x: 1 if x.day > 22 else 0)"
   ]
  },
  {
   "cell_type": "code",
   "execution_count": 42,
   "metadata": {},
   "outputs": [
    {
     "data": {
      "text/html": [
       "<div>\n",
       "<style scoped>\n",
       "    .dataframe tbody tr th:only-of-type {\n",
       "        vertical-align: middle;\n",
       "    }\n",
       "\n",
       "    .dataframe tbody tr th {\n",
       "        vertical-align: top;\n",
       "    }\n",
       "\n",
       "    .dataframe thead th {\n",
       "        text-align: right;\n",
       "    }\n",
       "</style>\n",
       "<table border=\"1\" class=\"dataframe\">\n",
       "  <thead>\n",
       "    <tr style=\"text-align: right;\">\n",
       "      <th></th>\n",
       "      <th>title</th>\n",
       "      <th>genre</th>\n",
       "      <th>revenue</th>\n",
       "      <th>release_date</th>\n",
       "      <th>is_weekend</th>\n",
       "      <th>day_name</th>\n",
       "      <th>last_7_days_month</th>\n",
       "    </tr>\n",
       "  </thead>\n",
       "  <tbody>\n",
       "    <tr>\n",
       "      <th>0</th>\n",
       "      <td>Avatar</td>\n",
       "      <td>Action</td>\n",
       "      <td>2787965087</td>\n",
       "      <td>2009-12-10</td>\n",
       "      <td>0</td>\n",
       "      <td>Thursday</td>\n",
       "      <td>0</td>\n",
       "    </tr>\n",
       "    <tr>\n",
       "      <th>2</th>\n",
       "      <td>Avatar</td>\n",
       "      <td>Adventure</td>\n",
       "      <td>2787965087</td>\n",
       "      <td>2009-12-10</td>\n",
       "      <td>0</td>\n",
       "      <td>Thursday</td>\n",
       "      <td>0</td>\n",
       "    </tr>\n",
       "    <tr>\n",
       "      <th>4</th>\n",
       "      <td>Avatar</td>\n",
       "      <td>Fantasy</td>\n",
       "      <td>2787965087</td>\n",
       "      <td>2009-12-10</td>\n",
       "      <td>0</td>\n",
       "      <td>Thursday</td>\n",
       "      <td>0</td>\n",
       "    </tr>\n",
       "    <tr>\n",
       "      <th>6</th>\n",
       "      <td>Avatar</td>\n",
       "      <td>Science Fiction</td>\n",
       "      <td>2787965087</td>\n",
       "      <td>2009-12-10</td>\n",
       "      <td>0</td>\n",
       "      <td>Thursday</td>\n",
       "      <td>0</td>\n",
       "    </tr>\n",
       "    <tr>\n",
       "      <th>8</th>\n",
       "      <td>Pirates of the Caribbean: At World's End</td>\n",
       "      <td>Adventure</td>\n",
       "      <td>961000000</td>\n",
       "      <td>2007-05-19</td>\n",
       "      <td>1</td>\n",
       "      <td>Saturday</td>\n",
       "      <td>0</td>\n",
       "    </tr>\n",
       "    <tr>\n",
       "      <th>9</th>\n",
       "      <td>Pirates of the Caribbean: At World's End</td>\n",
       "      <td>Fantasy</td>\n",
       "      <td>961000000</td>\n",
       "      <td>2007-05-19</td>\n",
       "      <td>1</td>\n",
       "      <td>Saturday</td>\n",
       "      <td>0</td>\n",
       "    </tr>\n",
       "    <tr>\n",
       "      <th>10</th>\n",
       "      <td>Pirates of the Caribbean: At World's End</td>\n",
       "      <td>Action</td>\n",
       "      <td>961000000</td>\n",
       "      <td>2007-05-19</td>\n",
       "      <td>1</td>\n",
       "      <td>Saturday</td>\n",
       "      <td>0</td>\n",
       "    </tr>\n",
       "    <tr>\n",
       "      <th>11</th>\n",
       "      <td>Spectre</td>\n",
       "      <td>Action</td>\n",
       "      <td>880674609</td>\n",
       "      <td>2015-10-26</td>\n",
       "      <td>0</td>\n",
       "      <td>Monday</td>\n",
       "      <td>1</td>\n",
       "    </tr>\n",
       "    <tr>\n",
       "      <th>13</th>\n",
       "      <td>Spectre</td>\n",
       "      <td>Adventure</td>\n",
       "      <td>880674609</td>\n",
       "      <td>2015-10-26</td>\n",
       "      <td>0</td>\n",
       "      <td>Monday</td>\n",
       "      <td>1</td>\n",
       "    </tr>\n",
       "    <tr>\n",
       "      <th>15</th>\n",
       "      <td>Spectre</td>\n",
       "      <td>Crime</td>\n",
       "      <td>880674609</td>\n",
       "      <td>2015-10-26</td>\n",
       "      <td>0</td>\n",
       "      <td>Monday</td>\n",
       "      <td>1</td>\n",
       "    </tr>\n",
       "  </tbody>\n",
       "</table>\n",
       "</div>"
      ],
      "text/plain": [
       "                                       title            genre     revenue  \\\n",
       "0                                     Avatar           Action  2787965087   \n",
       "2                                     Avatar        Adventure  2787965087   \n",
       "4                                     Avatar          Fantasy  2787965087   \n",
       "6                                     Avatar  Science Fiction  2787965087   \n",
       "8   Pirates of the Caribbean: At World's End        Adventure   961000000   \n",
       "9   Pirates of the Caribbean: At World's End          Fantasy   961000000   \n",
       "10  Pirates of the Caribbean: At World's End           Action   961000000   \n",
       "11                                   Spectre           Action   880674609   \n",
       "13                                   Spectre        Adventure   880674609   \n",
       "15                                   Spectre            Crime   880674609   \n",
       "\n",
       "   release_date  is_weekend  day_name  last_7_days_month  \n",
       "0    2009-12-10           0  Thursday                  0  \n",
       "2    2009-12-10           0  Thursday                  0  \n",
       "4    2009-12-10           0  Thursday                  0  \n",
       "6    2009-12-10           0  Thursday                  0  \n",
       "8    2007-05-19           1  Saturday                  0  \n",
       "9    2007-05-19           1  Saturday                  0  \n",
       "10   2007-05-19           1  Saturday                  0  \n",
       "11   2015-10-26           0    Monday                  1  \n",
       "13   2015-10-26           0    Monday                  1  \n",
       "15   2015-10-26           0    Monday                  1  "
      ]
     },
     "execution_count": 42,
     "metadata": {},
     "output_type": "execute_result"
    }
   ],
   "source": [
    "date1.head(10)"
   ]
  },
  {
   "cell_type": "code",
   "execution_count": 43,
   "metadata": {},
   "outputs": [
    {
     "data": {
      "image/png": "[encoded data removed]",
      "text/plain": [
       "<Figure size 864x432 with 1 Axes>"
      ]
     },
     "metadata": {
      "needs_background": "light"
     },
     "output_type": "display_data"
    }
   ],
   "source": [
    "plt.figure(figsize = (12,6))\n",
    "plt.title('Vote Score distribution of Genres')\n",
    "ax = sns.boxplot(x=\"is_weekend\", y=\"revenue\", data=date1)"
   ]
  },
  {
   "cell_type": "markdown",
   "metadata": {},
   "source": [
    "### Hypothesis testing: Released date on Revenue\n",
    "1. Weekends and Weekdays\n",
    "    - Pop1: films released on the weekends\n",
    "    - Pop2: films released on the weekdays\n",
    "\n",
    "***Hypothesis testing***: To test if there are differences in film's revenue generated between two populations.\n",
    "\n",
    "    - H0: There is no significant difference in film's revenue whether it's released on weekend or weekdays\n",
    "    - H1: There is a significant difference in film's revenue whether it's released on weekend or weekdays"
   ]
  },
  {
   "cell_type": "code",
   "execution_count": 44,
   "metadata": {},
   "outputs": [
    {
     "name": "stdout",
     "output_type": "stream",
     "text": [
      "Results of ANOVA test:\n",
      " The F-statistic is: 12.38276269492839\n",
      " The p-value is: 0.0004349394738709805\n"
     ]
    }
   ],
   "source": [
    "fvalue, pvalue = stats.f_oneway(date1[date1['is_weekend'] == 1]['revenue'],\n",
    "                                date1[date1['is_weekend'] == 0]['revenue'])\n",
    "\n",
    "print(f\"Results of ANOVA test:\\n The F-statistic is: {fvalue}\\n The p-value is: {pvalue}\")"
   ]
  },
  {
   "cell_type": "markdown",
   "metadata": {},
   "source": [
    "***Conclusion:*** Since ***p-value < 0.05*** and ***F-statistics > 0***, we can reject H0 with a 95% confidence, and expect the film released on weekends tend to generate more revenue than films released on weekdays"
   ]
  },
  {
   "cell_type": "markdown",
   "metadata": {},
   "source": [
    "### Hypothesis testing: Released date on Revenue\n",
    "2. End of month and other days\n",
    "    - Pop1: films released on the last 7 days of month\n",
    "    - Pop2: films released on other days of the month\n",
    "\n",
    "***Hypothesis testing***: To test if there are differences in film's revenue generated between two populations.\n",
    "\n",
    "    - H0: There is no significant difference in film's revenue whether it's released on end of month or not.\n",
    "    - H1: There is a significant difference in film's revenue regarding the released day."
   ]
  },
  {
   "cell_type": "code",
   "execution_count": 46,
   "metadata": {},
   "outputs": [
    {
     "name": "stdout",
     "output_type": "stream",
     "text": [
      "Results of ANOVA test:\n",
      " The F-statistic is: 14.646616703832752\n",
      " The p-value is: 0.00013033332671895324\n"
     ]
    }
   ],
   "source": [
    "fvalue, pvalue = stats.f_oneway(date1[date1['last_7_days_month'] == 1]['revenue'],\n",
    "                                date1[date1['last_7_days_month'] == 0]['revenue'])\n",
    "\n",
    "print(f\"Results of ANOVA test:\\n The F-statistic is: {fvalue}\\n The p-value is: {pvalue}\")"
   ]
  },
  {
   "cell_type": "markdown",
   "metadata": {},
   "source": [
    "***Conclusion:*** Since ***p-value < 0.05*** and ***F-statistics > 0***, we can reject H0 with a 95% confidence, and expect the film released on the last 7 days of a month tend to generate more revenue compared to other early released films"
   ]
  },
  {
   "cell_type": "markdown",
   "metadata": {},
   "source": [
    "### Hypothesis testing: Released date on Revenue\n",
    "3. End of month and other days\n",
    "    - Pop1: films released on Monday\n",
    "    - Pop2: films released on Tuesday\n",
    "    - Pop3: films released on Wednesday\n",
    "    - Pop4: films released on Thursday\n",
    "    - Pop5: films released on Friday\n",
    "    - Pop6: films released on Saturday\n",
    "    - Pop7: films released on Sunday\n",
    "\n",
    "***Hypothesis testing***: To test if there are differences in film's revenue generated among seven populations.\n",
    "\n",
    "    - H0: There is no significant difference in film's revenue whether it's regardless of the released day of the week.\n",
    "    - H1: Not all day of week generate the same mean revenue among populations"
   ]
  },
  {
   "cell_type": "code",
   "execution_count": 47,
   "metadata": {},
   "outputs": [
    {
     "name": "stdout",
     "output_type": "stream",
     "text": [
      "Results of ANOVA test:\n",
      " The F-statistic is: 88.39443297802669\n",
      " The p-value is: 7.026453887953136e-109\n"
     ]
    }
   ],
   "source": [
    "fvalue, pvalue = stats.f_oneway(date1[date1['day_name'] == 'Monday']['revenue'],\n",
    "                                date1[date1['day_name'] == 'Tuesday']['revenue'],\n",
    "                                date1[date1['day_name'] == 'Wednesday']['revenue'],\n",
    "                                date1[date1['day_name'] == 'Thursday']['revenue'],\n",
    "                                date1[date1['day_name'] == 'Friday']['revenue'],\n",
    "                                date1[date1['day_name'] == 'Saturday']['revenue'],\n",
    "                                date1[date1['day_name'] == 'Sunday']['revenue'])\n",
    "\n",
    "print(f\"Results of ANOVA test:\\n The F-statistic is: {fvalue}\\n The p-value is: {pvalue}\")"
   ]
  },
  {
   "cell_type": "markdown",
   "metadata": {},
   "source": [
    "***Conclusion:*** Since ***p-value < 0.05***, we can reject H0 with a 95% confidence, and expect there will be significant differences among films regarding their released day of week."
   ]
  },
  {
   "cell_type": "code",
   "execution_count": 50,
   "metadata": {},
   "outputs": [
    {
     "data": {
      "image/png": "[encoded data removed]",
      "text/plain": [
       "<Figure size 864x432 with 1 Axes>"
      ]
     },
     "metadata": {
      "needs_background": "light"
     },
     "output_type": "display_data"
    }
   ],
   "source": [
    "plt.figure(figsize = (12,6))\n",
    "plt.title('Film\\'s revenue distribution by day of week')\n",
    "ax = sns.boxplot(x=\"day_name\", y=\"revenue\", data=date1)"
   ]
  },
  {
   "cell_type": "code",
   "execution_count": null,
   "metadata": {},
   "outputs": [],
   "source": []
  }
 ],
 "metadata": {
  "kernelspec": {
   "display_name": "Python 3",
   "language": "python",
   "name": "python3"
  },
  "language_info": {
   "codemirror_mode": {
    "name": "ipython",
    "version": 3
   },
   "file_extension": ".py",
   "mimetype": "text/x-python",
   "name": "python",
   "nbconvert_exporter": "python",
   "pygments_lexer": "ipython3",
   "version": "3.7.3"
  }
 },
 "nbformat": 4,
 "nbformat_minor": 2
}
