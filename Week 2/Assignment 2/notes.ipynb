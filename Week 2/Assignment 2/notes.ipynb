{
 "cells": [
  {
   "cell_type": "markdown",
   "metadata": {},
   "source": [
    "\n",
    "### ML process\n",
    "\n",
    "preprocess (check data len)\n",
    "check missing values\n",
    "descriptive statistics\n",
    "EDA (visualization included):\n",
    "    - univariate\n",
    "    - bivariate\n",
    "    \n",
    "Hypothesis testing\n",
    "\n",
    "---\n",
    "\n",
    "Feature selection\n",
    "\n",
    "Data transforming\n",
    "\n",
    "Train/test split\n",
    "\n",
    "Modelling\n",
    "\n",
    "Model tunning\n",
    "\n",
    "Back test, performance testing\n",
    "\n",
    "Identify strategies\n",
    "\n",
    "\n"
   ]
  },
  {
   "cell_type": "markdown",
   "metadata": {},
   "source": [
    "Deal with missing values:\n",
    "\n",
    "1. Delete:\n",
    "    Delete cột: miss hầu hết các hàng\n",
    "    Delete hàng: miss hầu hết các cột\n",
    "\n",
    "2. Replace by statistics values (mean, mode, median)\n",
    "\n",
    "3. Predict (clustering or classification)\n",
    "\n",
    "4. Replaced by new values:\n",
    "    Categorical --> Unknown\n",
    "    Continuous --> dummy value (0)\n",
    "\n",
    "(Một feature được sử dụng nhiều cho các bài toán, model khác, ví dụ: build model to predict gender rồi sử dụng gender này để giải bài toán segmentation) \n",
    "\n",
    "***Ensemble learning*** \n",
    "Sử dụng nhiều models lồng vào nhau\n",
    "\n",
    "\n",
    "short-term model to become feature for long-term model.\n",
    "nếu tổng error của các model vẫn có thể chấp nhận được thi vẫn ổn.\n",
    "\n",
    "\n",
    "\n",
    "\n",
    "\n"
   ]
  },
  {
   "cell_type": "markdown",
   "metadata": {},
   "source": [
    "Descriptive Statistics:\n",
    "\n",
    "pandas describe (include = 'O')\n"
   ]
  },
  {
   "cell_type": "markdown",
   "metadata": {},
   "source": [
    "#### EDA\n",
    "\n",
    "boxplot, bar chart, histogram --> distribution\n",
    "\n",
    "\n",
    "multivariate EDA\n",
    "\n",
    "--> Xem thử feature có ảnh hưởng đến biến target hay không?"
   ]
  },
  {
   "cell_type": "markdown",
   "metadata": {},
   "source": [
    "#### Hypothesis testing\n",
    "\n",
    "t-test, anova, f-test\n",
    "\n",
    "to test if features có ảnh hưởng đến biến target không?\n",
    "\n",
    "weekdate and weekend\n",
    "\n",
    "dau thang va cuoi thang\n",
    "\n"
   ]
  },
  {
   "cell_type": "markdown",
   "metadata": {},
   "source": [
    "## PCA (Data transformation method)\n",
    "\n",
    "LDA and PCA?\n",
    "\n",
    "Dataset: D dimensions\n",
    "\n",
    "D eigenvalues and D eigenvectors\n",
    "\n",
    "choose M eigenvalues (<D)\n",
    "\n"
   ]
  },
  {
   "cell_type": "code",
   "execution_count": null,
   "metadata": {},
   "outputs": [],
   "source": []
  }
 ],
 "metadata": {
  "kernelspec": {
   "display_name": "Python 3",
   "language": "python",
   "name": "python3"
  },
  "language_info": {
   "codemirror_mode": {
    "name": "ipython",
    "version": 3
   },
   "file_extension": ".py",
   "mimetype": "text/x-python",
   "name": "python",
   "nbconvert_exporter": "python",
   "pygments_lexer": "ipython3",
   "version": "3.7.3"
  }
 },
 "nbformat": 4,
 "nbformat_minor": 2
}
