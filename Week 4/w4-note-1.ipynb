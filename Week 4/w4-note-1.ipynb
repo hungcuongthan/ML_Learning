{
 "cells": [
  {
   "cell_type": "markdown",
   "metadata": {},
   "source": [
    "Melbourne housing project\n",
    "housing price prediction using linear regression\n",
    "\n",
    "holdout? cross-validation\n",
    "\n",
    "using PCA for features selection\n",
    "\n",
    "visualize residual and homoscedasticity\n"
   ]
  },
  {
   "cell_type": "markdown",
   "metadata": {},
   "source": [
    "using train test split of sklearn\n",
    "\n",
    "in-time validation (dev)\n",
    "\n",
    "from dev -> 80% train and 20% test\n",
    "\n",
    "\n",
    "out of time validation (OTV):\n",
    "    \n",
    "    final test for the above model\n",
    "\n",
    "\n",
    "**Train/Test/OTV**\n",
    "    \n",
    "\n",
    "    \n"
   ]
  },
  {
   "cell_type": "markdown",
   "metadata": {},
   "source": [
    "### Cross-validation (k-fold)\n",
    "\n",
    "the train/test split method accidentally helps the model.\n",
    "\n",
    "mu mau (khong biet) (l: xanh va r: do)\n",
    "\n",
    "0 mu mau\n",
    "\n",
    "co cach nao de kiem dinh mu mau co mu mau that hay khong?\n",
    "\n",
    "\n",
    "\n"
   ]
  },
  {
   "cell_type": "markdown",
   "metadata": {},
   "source": [
    "### PCA\n",
    "\n",
    "Dimentional reduction\n",
    "\n",
    "plot component explained variances -> 'Điểm giải thích?'\n",
    "\n",
    "\n"
   ]
  },
  {
   "cell_type": "markdown",
   "metadata": {},
   "source": [
    "### Evaluation metrics in linear regression\n",
    "\n",
    "\n",
    "MSE: smaller better\n",
    "\n",
    "R-S: r2_score: best scrore = 1, worst score = 0 (Tốt hơn bao nhiêu % so với lúc không có model nào cả)\n",
    "\n",
    "\n"
   ]
  },
  {
   "cell_type": "markdown",
   "metadata": {},
   "source": [
    "### Residual and Homoscedasticity\n",
    "\n",
    "residual plot\n",
    "\n",
    "Heteroskedasticity (không đồng nhất):\n",
    "    chia dữ liệu thành các bins\n",
    "    x = x/bin's variance\n",
    "    \n",
    "    \n",
    "    \n",
    "Homoscedasticity (đồng nhất)\n",
    "\n"
   ]
  },
  {
   "cell_type": "markdown",
   "metadata": {},
   "source": [
    "### PCA\n",
    "\n",
    "When to use? whenever we train a new model\n",
    "compare PCA transformed model and the non-transformed models\n",
    "\n",
    "Hiện tượng đa thuận tuyến( multicollinearity?)\n"
   ]
  }
 ],
 "metadata": {
  "kernelspec": {
   "display_name": "Python 3",
   "language": "python",
   "name": "python3"
  },
  "language_info": {
   "codemirror_mode": {
    "name": "ipython",
    "version": 3
   },
   "file_extension": ".py",
   "mimetype": "text/x-python",
   "name": "python",
   "nbconvert_exporter": "python",
   "pygments_lexer": "ipython3",
   "version": "3.7.3"
  }
 },
 "nbformat": 4,
 "nbformat_minor": 2
}
