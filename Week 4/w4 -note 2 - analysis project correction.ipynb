{
 "cells": [
  {
   "cell_type": "markdown",
   "metadata": {},
   "source": [
    "phan khuc price thanh nhieu segment khac nhau\n",
    "\n",
    "theo gia nha cao/thap, vi tri\n",
    "\n",
    "IQR detect outlier\n",
    "\n",
    "giới hạn dưới: Q1-IQR*1.5\n",
    "\n",
    "giới hạn trên: Q3 + IQR*1.5\n",
    "\n",
    "IQR = Q3-Q1. "
   ]
  },
  {
   "cell_type": "markdown",
   "metadata": {},
   "source": [
    "Kiểm tra y có đang tin cậy hay không\n",
    "\n",
    "có 4 bước ktra:\n",
    "    1/ y - predict phải tuân theo luật phân phối chuẩn\n",
    "    2/ phần dư phải có giá trị min\n",
    "    \n",
    "homocedasticity: phương sai không đổi\n",
    "\n",
    "nếu range giá trị giữa các features quá chênh lệch, consider scaling those features.\n",
    "\n",
    "heatmap: độ tương quan của các thuộc tính\n",
    "\n",
    "PCA: ít làm ăn hiệu suất mô hình nếu quá ít dữ liệu\n",
    "\n",
    "trước khi huấn luyện cần đưa feature về phân phối chuẩn\n",
    "\n",
    "scaling feature: \n",
    "\n",
    "gridsearchCV\n",
    "\n",
    "\n",
    "    "
   ]
  }
 ],
 "metadata": {
  "kernelspec": {
   "display_name": "Python 3",
   "language": "python",
   "name": "python3"
  },
  "language_info": {
   "codemirror_mode": {
    "name": "ipython",
    "version": 3
   },
   "file_extension": ".py",
   "mimetype": "text/x-python",
   "name": "python",
   "nbconvert_exporter": "python",
   "pygments_lexer": "ipython3",
   "version": "3.7.3"
  }
 },
 "nbformat": 4,
 "nbformat_minor": 2
}
