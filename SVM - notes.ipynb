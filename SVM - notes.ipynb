{
 "cells": [
  {
   "cell_type": "markdown",
   "metadata": {},
   "source": [
    "maximum margin classifiers\n",
    "\n",
    "    Assume that the data are linearly separable\n",
    "    Decision boundary equation:\n",
    "        y(x) = w.x + b\n",
    "        \n",
    "        \n",
    "    support vectors: samples lie on the two margins\n",
    "    \n",
    "    using lagrange multipliers optimization\n",
    "    \n",
    "    y > 0: -> +1\n",
    "    y < 0: -> -1"
   ]
  },
  {
   "cell_type": "code",
   "execution_count": null,
   "metadata": {},
   "outputs": [],
   "source": []
  }
 ],
 "metadata": {
  "kernelspec": {
   "display_name": "Python 3",
   "language": "python",
   "name": "python3"
  },
  "language_info": {
   "codemirror_mode": {
    "name": "ipython",
    "version": 3
   },
   "file_extension": ".py",
   "mimetype": "text/x-python",
   "name": "python",
   "nbconvert_exporter": "python",
   "pygments_lexer": "ipython3",
   "version": "3.7.3"
  }
 },
 "nbformat": 4,
 "nbformat_minor": 2
}
